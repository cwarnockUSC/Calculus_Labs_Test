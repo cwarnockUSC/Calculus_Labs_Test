{
 "cells": [
  {
   "cell_type": "markdown",
   "metadata": {},
   "source": [
    "<center> <h1> Improper Integrals </h1> </center>\n",
    " \n",
    "## Overview\n",
    "\n",
    "In this lab, we will use Sage to demonstrate the individual steps involved in evaluating improper integrals.\n",
    "\n",
    "### Important Sage Commands Introduced in this Lab\n",
    "\n",
    "\\begin{array}{|l|l|l|}\n",
    "\\hline \n",
    "\\hfill \\textbf{Command} \\hfill & \\hfill \\textbf{Description} \\hfill & \\hfill \\textbf{Example} \\hfill \\\\\n",
    "\\hline\n",
    "\\textbf{assume}(\\dots) & \\text{Stores the given assumption in Sage} & \\textbf{assume}(a > 0, a < 1) \\\\\n",
    "\\hline\n",
    "\\textbf{assumptions()} & \\text{Returns all the current assumptions on the variables} & \\textbf{assumptions()} \\\\\n",
    "\\hline\n",
    "\\textbf{forget()} & \\text{Forgets all assumptions} & \\textbf{forget()} \\\\\n",
    "\\hline\n",
    "\\textbf{forget}(\\textit{asmptn}) & \\text{Forgets only the assumption $\\textit{asmptn}$} & \\textbf{forget}(a < 1) \\\\\n",
    "\\hline\n",
    "\\end{array}\n",
    "\n",
    "### Related Course Material\n",
    "    Section 8.8"
   ]
  },
  {
   "cell_type": "markdown",
   "metadata": {},
   "source": [
    "## Example 1\n",
    "\n",
    "First, we will evaluate an improper integral which has an unbounded integrand. Consider the integral $$\\int_0^5 \\ln(x) \\ dx.$$ We can determine if the integrand is unbounded in this interval by graphing it."
   ]
  },
  {
   "cell_type": "code",
   "execution_count": null,
   "metadata": {},
   "outputs": [],
   "source": [
    "plot(ln(x), xmin = 0, xmax = 5)"
   ]
  },
  {
   "cell_type": "markdown",
   "metadata": {},
   "source": [
    "Note that the integrand is unbounded as $x \\rightarrow 0^+.$ We can confirm this in Sage by using the $\\textbf{limit}$ command. "
   ]
  },
  {
   "cell_type": "code",
   "execution_count": null,
   "metadata": {},
   "outputs": [],
   "source": [
    "limit(ln(x), x=0, dir=\"+\")"
   ]
  },
  {
   "cell_type": "markdown",
   "metadata": {},
   "source": [
    "We will reformulate this integral using limits as $$\\lim_{a \\rightarrow 0^+} \\int_a^5 \\ln(x) \\ dx.$$ First, we use Sage to evaluate the integral. In order for Sage to allow the variable $a$ as a bound, we must tell Sage that $a$ is a number greater than $0$ so that we avoid the infinite discontinuity. Also, since $a$ is a number close to $0$, we also tell Sage that $a < 1$. We can do this using the $\\textbf{assume}$ command. Also, to see the integral, we use the option $\\textbf{hold = true}$ to keep Sage from evaluating the integral and the $\\textbf{show}$ command."
   ]
  },
  {
   "cell_type": "code",
   "execution_count": null,
   "metadata": {},
   "outputs": [],
   "source": [
    "a = var('a')\n",
    "assume(a>0, a<1)\n",
    "show(integrate(ln(x),x, a, 5, hold = true))"
   ]
  },
  {
   "cell_type": "markdown",
   "metadata": {},
   "source": [
    "Recall that Sage uses $\\log(x)$ to mean $\\ln(x)$, so this is the correct integral. Now we can evaluate the integral, assuming our assumptions are correct, by removing the $\\textbf{hold = true}$ statement."
   ]
  },
  {
   "cell_type": "code",
   "execution_count": null,
   "metadata": {},
   "outputs": [],
   "source": [
    "f(a) = integrate(ln(x),x, a, 5)\n",
    "f(a)"
   ]
  },
  {
   "cell_type": "markdown",
   "metadata": {},
   "source": [
    "Lastly, we use the $\\textbf{limit}$ command to compute the limit of the integral."
   ]
  },
  {
   "cell_type": "code",
   "execution_count": null,
   "metadata": {},
   "outputs": [],
   "source": [
    "limit(f(a), a=0, dir=\"+\")"
   ]
  },
  {
   "cell_type": "markdown",
   "metadata": {},
   "source": [
    "It follows that $$\\int_0^5 \\ln(x) \\ dx = 5\\ln(5) - 5.$$ Sage is capable of handling improper integrals directly, so we can check our answer in Sage by immediately evaluating the improper integral."
   ]
  },
  {
   "cell_type": "code",
   "execution_count": null,
   "metadata": {},
   "outputs": [],
   "source": [
    "integrate(ln(x), x, 0, 5)"
   ]
  },
  {
   "cell_type": "markdown",
   "metadata": {},
   "source": [
    "## Example 2\n",
    "\n",
    "Now, let's use Sage to evaluate an improper integral over an infinite interval. Consider the integral $$\\int_{-\\infty}^\\infty \\dfrac{x}{x^2 + 1} \\ dx.$$ Since both bounds of the integral are infinite, we need to first split the integral into two integrals which have one finite bound. Therefore, we first rewrite the integral as $$\\int_{-\\infty}^0 \\dfrac{x}{x^2 + 1} \\ dx + \\int_0^\\infty \\dfrac{x}{x^2 + 1} \\ dx.$$ Now, we can rewrite each integral in terms of limits as $$\\lim_{a\\rightarrow -\\infty} \\int_a^0 \\dfrac{x}{x^2 + 1} \\ dx + \\lim_{b \\rightarrow \\infty} \\int_0^b \\dfrac{x}{x^2 + 1} \\ dx.$$ Let us create both of these integrals in Sage. We have to be careful when using $a$ again since Sage still remembers the assumptions about it that we made in the last problem. We can check this by using the $\\textbf{assumptions()}$ command."
   ]
  },
  {
   "cell_type": "code",
   "execution_count": null,
   "metadata": {},
   "outputs": [],
   "source": [
    "assumptions()"
   ]
  },
  {
   "cell_type": "markdown",
   "metadata": {},
   "source": [
    "We can remove all current assumptions on our variables by using the $\\textbf{forget()}$ command."
   ]
  },
  {
   "cell_type": "code",
   "execution_count": null,
   "metadata": {},
   "outputs": [],
   "source": [
    "forget()\n",
    "assumptions()"
   ]
  },
  {
   "cell_type": "markdown",
   "metadata": {},
   "source": [
    "Now that Sage no longer has any assumptions on $a$, we can use $a$ and add new assumptions as needed."
   ]
  },
  {
   "cell_type": "code",
   "execution_count": null,
   "metadata": {},
   "outputs": [],
   "source": [
    "a,b = var('a', 'b')\n",
    "assume(a < 0)\n",
    "assume(b > 0)\n",
    "def f(x):\n",
    "    return x/(x^2 + 1)\n",
    "show(integrate(f(x), x, a, 0, hold = true) + integrate(f(x), x, 0, b, hold = true))"
   ]
  },
  {
   "cell_type": "markdown",
   "metadata": {},
   "source": [
    "Now, we will use Sage to evaluate the limit of each of the integrals and add the results together."
   ]
  },
  {
   "cell_type": "code",
   "execution_count": null,
   "metadata": {},
   "outputs": [],
   "source": [
    "Int1 = integrate(f(x), x, a, 0)\n",
    "Lim1 = limit(Int1, a=-infinity)\n",
    "Lim1"
   ]
  },
  {
   "cell_type": "markdown",
   "metadata": {},
   "source": [
    "Note that we got that $$\\lim_{a \\rightarrow -\\infty} \\int_a^0 \\dfrac{x}{x^2 + 1} \\ dx = -\\infty.$$ Since one of our integrals diverges, we have that the entire integral diverges. Therefore, $ \\displaystyle \\int_{-\\infty}^\\infty \\dfrac{x}{x^2 + 1} \\ dx$ diverges. \n",
    "\n",
    "Again, we can check this directly in Sage. (Read the last line of the error message.)"
   ]
  },
  {
   "cell_type": "code",
   "execution_count": null,
   "metadata": {},
   "outputs": [],
   "source": [
    "integrate(f(x), x, -infinity, infinity)"
   ]
  },
  {
   "cell_type": "markdown",
   "metadata": {},
   "source": [
    "## Example 3\n",
    "\n",
    "For our last example, we will use Sage to determine for what values of $p$ does $\\displaystyle \\int_1^\\infty \\dfrac{1}{x^p} \\ dx$ converge. First, we rewrite the improper integral using limits as $$\\lim_{b\\rightarrow \\infty} \\int_1^b \\dfrac{1}{x^p} \\ dx$$ and use Sage to get simplify the integral."
   ]
  },
  {
   "cell_type": "code",
   "execution_count": null,
   "metadata": {},
   "outputs": [],
   "source": [
    "forget()\n",
    "b,p = var('b','p')\n",
    "assume(b>1)\n",
    "show(integrate(1/(x^p), x, 1, b, hold=true))"
   ]
  },
  {
   "cell_type": "markdown",
   "metadata": {},
   "source": [
    "Note that if we try to evaluate this integral as is, Sage will throw an error since it needs more information on the variable $p$."
   ]
  },
  {
   "cell_type": "code",
   "execution_count": null,
   "metadata": {},
   "outputs": [],
   "source": [
    "integrate(1/(x^p), x, 1, b)"
   ]
  },
  {
   "cell_type": "markdown",
   "metadata": {},
   "source": [
    "We know that the integrand $\\dfrac{1}{x^p}$ has two different antiderivatives depending on whether $p = 1$ or $p \\neq 1$. Also, we can see that if $p \\leq 0$, then the integrand is a non-decreasing function so the integral will diverge. Therefore, we will look at three cases: $p > 1$, $p = 1$, and $0 < p < 1$. First, let's see what happens when $p>1$."
   ]
  },
  {
   "cell_type": "code",
   "execution_count": null,
   "metadata": {},
   "outputs": [],
   "source": [
    "assume(p>1)\n",
    "integrate(1/(x^p), x, 1, b)"
   ]
  },
  {
   "cell_type": "markdown",
   "metadata": {},
   "source": [
    "We get an expression for the integral. Now let us calculate the limit and see if it converges or diverges."
   ]
  },
  {
   "cell_type": "code",
   "execution_count": null,
   "metadata": {},
   "outputs": [],
   "source": [
    "limit(integrate(1/(x^p), x, 1, b), b=infinity)"
   ]
  },
  {
   "cell_type": "markdown",
   "metadata": {},
   "source": [
    "Since we get an actual expression for the limit, we know that the improper integral converges when $p > 1$. Now, let's see what happens when $p = 1$. "
   ]
  },
  {
   "cell_type": "code",
   "execution_count": null,
   "metadata": {},
   "outputs": [],
   "source": [
    "assume(p == 1)      ## Remember that when typing an equation, you must use == instead of ="
   ]
  },
  {
   "cell_type": "markdown",
   "metadata": {},
   "source": [
    "Sage tells us that this assumption is inconsistent since it is still assumping $p>1$ and it is impossible for $p>1$ and $p=1$. Therefore, we need to first forget the assumption $p>1$ and then assume $p=1$."
   ]
  },
  {
   "cell_type": "code",
   "execution_count": null,
   "metadata": {},
   "outputs": [],
   "source": [
    "forget(p>1)\n",
    "assume(p==1)"
   ]
  },
  {
   "cell_type": "markdown",
   "metadata": {},
   "source": [
    "Now, let us evaluate the integral and limit when $p = 1$."
   ]
  },
  {
   "cell_type": "code",
   "execution_count": null,
   "metadata": {},
   "outputs": [],
   "source": [
    "integrate(1/(x^p), x, 1, b)"
   ]
  },
  {
   "cell_type": "code",
   "execution_count": null,
   "metadata": {},
   "outputs": [],
   "source": [
    "limit(integrate(1/(x^p), x, 1, b), b=infinity)"
   ]
  },
  {
   "cell_type": "markdown",
   "metadata": {},
   "source": [
    "Since the limit diverges, we know that the improper integral diverges when $p = 1$. Lastly, we will try $0 < p < 1$."
   ]
  },
  {
   "cell_type": "code",
   "execution_count": null,
   "metadata": {},
   "outputs": [],
   "source": [
    "forget(p == 1)\n",
    "assume(0 < p, p < 1)\n",
    "integrate(1/(x^p), x, 1, b)"
   ]
  },
  {
   "cell_type": "code",
   "execution_count": null,
   "metadata": {},
   "outputs": [],
   "source": [
    "limit(integrate(1/(x^p), x, 1, b), b = infinity)"
   ]
  },
  {
   "cell_type": "markdown",
   "metadata": {},
   "source": [
    "Therefore, we see that the integral also diverges when $0 < p < 1.$ To summarize, we have that $$\\int_1^\\infty \\dfrac{1}{x^p} \\ dx = \\left \\{ \\begin{array}{rl} \\dfrac{1}{p-1} & \\text{if $p > 1$} \\\\ \\text{diverges} & \\text{if $p \\leq 1$} \\end{array} \\right . .$$"
   ]
  },
  {
   "cell_type": "markdown",
   "metadata": {},
   "source": [
    "## Example 4\n",
    "\n",
    "Repeat the above three examples for the following 3 integrals:\n",
    "1. $\\displaystyle \\int_0^{\\pi/2} \\sec(x) \\ dx$\n",
    "2. $\\displaystyle \\int_0^\\infty xe^{-x} \\ dx$\n",
    "3. $\\displaystyle \\int_e^\\infty \\dfrac{1}{x(\\ln(x))^p} \\ dx$"
   ]
  },
  {
   "cell_type": "code",
   "execution_count": null,
   "metadata": {},
   "outputs": [],
   "source": []
  }
 ],
 "metadata": {
  "kernelspec": {
   "display_name": "SageMath 8.9",
   "language": "sage",
   "name": "sagemath"
  },
  "language_info": {
   "codemirror_mode": {
    "name": "ipython",
    "version": 2
   },
   "file_extension": ".py",
   "mimetype": "text/x-python",
   "name": "python",
   "nbconvert_exporter": "python",
   "pygments_lexer": "ipython2",
   "version": "2.7.15"
  }
 },
 "nbformat": 4,
 "nbformat_minor": 2
}
