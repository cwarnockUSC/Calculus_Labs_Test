{
 "cells": [
  {
   "cell_type": "markdown",
   "metadata": {},
   "source": [
    "<center> <h1> Koch Snowflakes and Fractals </h1> </center>\n",
    " \n",
    "## Overview\n",
    "\n",
    "The word \"fractal\" is often used in referring to any object that is recursively constructed so that it appears simiar at all scales of magnification. The gif below demonstrates this property with the Koch snowflake.\n",
    "\n",
    "![KochUrl1](Images/Kochsim.gif \"Koch Snowflake\")\n",
    "\n",
    "There are many examples of complex real-life phenomena, such as chaos, ferns, mountains, river networks, and biological growth that can be described and studied using fractals. In this lab and project, we will analyze and generate a classic fractal, the Kock snowflake, and its variations. While it is natural to use a computer to do recursive constructions, we will focus on applications of sequences and series in our study.\n",
    "\n",
    "### Related Course Material\n",
    "    Sections 10.1 and 10.2"
   ]
  },
  {
   "cell_type": "markdown",
   "metadata": {},
   "source": [
    "## A Variation of the Koch Snowflake\n",
    "\n",
    "In this lab, we will analyze a variation of the Koch snowflake and use sequences and series to determine formulas for the perimeter and area of our snowflake at its various levels of construction. First, we will start with a square with side length 1. Then, we will add smaller squares to each of its four sides in such a way that each smaller square takes up the middle third of each side of the original square. We then repeat this process again and again. The final snowflake is the limit of this construction. The first four levels of such a constrution are given below.\n",
    "\n",
    "<img src=\"Images/KochSquareVariation.PNG\" alt=\"drawing\" width=\"800\"/>\n",
    "\n",
    "We will use Sage to develop general formulas for the area and perimeter of the first five levels and then use these formulas to determine the perimeter and area of the \"final\" snowflake."
   ]
  },
  {
   "cell_type": "markdown",
   "metadata": {},
   "source": [
    "First, we will create lists to hold information about the snowflake at the various stages. We want this lists to contain 5 values each, so we will go ahead and create them with 5 elements. "
   ]
  },
  {
   "cell_type": "code",
   "execution_count": null,
   "metadata": {},
   "outputs": [],
   "source": [
    "Length = [0,0,0,0,0]\n",
    "Sides = [0,0,0,0,0]\n",
    "Area = [0,0,0,0,0]\n",
    "Perimeter = [0,0,0,0,0]"
   ]
  },
  {
   "cell_type": "markdown",
   "metadata": {},
   "source": [
    "We begin with a side length of 1 and 4 sides. Also, we know that the area of the snowflake at Stage 0 is $1^2$ and the perimeter is $4(1)$."
   ]
  },
  {
   "cell_type": "code",
   "execution_count": null,
   "metadata": {},
   "outputs": [],
   "source": [
    "Length[0] = 1\n",
    "Sides[0] = 4\n",
    "Area[0] = Length[0]^2\n",
    "Perimeter[0] = Length[0] * Sides[0]"
   ]
  },
  {
   "cell_type": "markdown",
   "metadata": {},
   "source": [
    "Now, we consider how these values change as we move to the next Stage. From the picture, you can see that the side-lengths are all the same and that common value is $1/3$, since our smaller square had side-length one third of the previous square. Also, we can see that each line segment from the previous stage became five line segments. This pattern continues as we iterate through the stages. Therefore, we can use the following for loop to determine the length of each side and the number of sides for the first 5 stages of the snowflake."
   ]
  },
  {
   "cell_type": "code",
   "execution_count": null,
   "metadata": {},
   "outputs": [],
   "source": [
    "for i in range(1,5):\n",
    "    Length[i] = 1/3 * Length[i-1]\n",
    "    Sides[i] = 5 * Sides[i-1]\n",
    "print(Length)\n",
    "print(Sides)"
   ]
  },
  {
   "cell_type": "markdown",
   "metadata": {},
   "source": [
    "Now that we know the length of a line segment and the number of sides, we can develop formulas for the perimeter and the area at the various stages. Recall that the perimeter of a shape is the sum of the sides lengths making up the shape. Therefore, to find the perimeter at the $n^\\text{th}$ stage, we simply multiply the length of the sides by the number of sides."
   ]
  },
  {
   "cell_type": "code",
   "execution_count": null,
   "metadata": {},
   "outputs": [],
   "source": [
    "for i in range(1,5):\n",
    "    Perimeter[i] = Length[i] * Sides[i]\n",
    "print(Perimeter)"
   ]
  },
  {
   "cell_type": "markdown",
   "metadata": {},
   "source": [
    "The formula for area is a little more involved. Note that at each stage, we are adding more area to the area that was currently there in the previous stage. Therefore, to determine the area at stage $i$, we need to add our new area to the previous area. To calculate the new area, we see that we are adding some number of identical squares to our current snowflake. Since we are adding a new square to each side of the previous snowflake, we know that the number of squares we are adding is Sides$[i-1]$. The length of each side of these new squares is Length$[i]$. Therefore, the new area is Sides$[i-1]$Length$[i]^2$."
   ]
  },
  {
   "cell_type": "code",
   "execution_count": null,
   "metadata": {},
   "outputs": [],
   "source": [
    "for i in range(1,5):\n",
    "    Area[i] = Area[i-1] + Sides[i-1]*Length[i]^2\n",
    "print(Area)"
   ]
  },
  {
   "cell_type": "markdown",
   "metadata": {},
   "source": [
    "Now that we have found the perimeter and area of the first five stages of the snowflake, we will create general formulas which will give us the perimeter and area of the $n^\\text{th}$ snowflake. We saw in our calculation of the perimeter at stage $n$ that $P_n = L_n * S_n$, where $P_n, L_n,$ and $S_n$ are the perimeter, side length, and number of sides at stage $i$, respectively. Therefore, to determine a general formula for perimeter, we first need to find general formulas for the length of each side and the number of sides. Recall that the length of each side started at 1 and then was multiplied by $\\frac{1}{3}$ each iteration. Therefore, $L_n = 1 * \\left(\\frac{1}{3}\\right)^n = \\frac{1}{3^n}.$ The number of sides started out $4$ and then was multiplied by $5$ each iteration. Thus, $S_n = 4 * 5^n.$ It follows that $$P_n = L_n * S_n = \\frac{1}{3^n} * 4 * 5^n = 4\\left(\\frac{5}{3}\\right)^n.$$ We will create this sequence in sage and check that it agrees with our previous calculations for perimeter."
   ]
  },
  {
   "cell_type": "code",
   "execution_count": null,
   "metadata": {},
   "outputs": [],
   "source": [
    "n = var('n')\n",
    "def P(n):\n",
    "    return 4*(5/3)^n\n",
    "for i in range(0,5):\n",
    "    print(\"Stage: %d\" %i)\n",
    "    print(Perimeter[i])\n",
    "    print(P(i))\n",
    "    print(\"\")"
   ]
  },
  {
   "cell_type": "markdown",
   "metadata": {},
   "source": [
    "Therefore, we see that our general formula for perimeter is correct. We can determine the perimeter of the \"final\" snowflake by determining if the sequence $P_n$ converges or diverges."
   ]
  },
  {
   "cell_type": "code",
   "execution_count": null,
   "metadata": {},
   "outputs": [],
   "source": [
    "limit(P(n),n=infinity)"
   ]
  },
  {
   "cell_type": "markdown",
   "metadata": {},
   "source": [
    "Thus, the perimeter of the \"final\" flake is infinite. \n",
    "\n",
    "Now, we will get a formula for area. Recall that to find the area of the $n^\\text{th}$ snowflake, we started with the previous area and then added the new area. Therefore, to find a general formula we have to start with the original area of 1 and then repeatedly add this new area for each stage up to $n$. We saw earlier that the formula for our new area is $$NA_n = S_{n-1} * L_n^2 = 4*5^{n-1} * \\left(\\frac{1}{3^n}\\right)^2 = \\frac{4}{5} * \\left(\\frac{5}{9}\\right)^n,$$ where $NA_n$ is the new area added at stage $n$. Therefore, we have that $$A_n = A_0 + \\sum_{i = 1}^{n} NA_i = 1 + \\sum_{i=1}^n \\frac{4}{5} \\left(\\frac{5}{9}\\right)^n,$$ where $A_n$ is the total area at stage $n$. Again, we compare this formula to our previous calculations for area."
   ]
  },
  {
   "cell_type": "code",
   "execution_count": null,
   "metadata": {},
   "outputs": [],
   "source": [
    "i = var('i')\n",
    "def A(n):\n",
    "    return 1 + sum(4/5 * (5/9)^i, i, 1, n)\n",
    "for k in range(0,5):\n",
    "    print(\"Stage: %d\" %k)\n",
    "    print(Area[k])\n",
    "    print(A(k))\n",
    "    print(\"\")"
   ]
  },
  {
   "cell_type": "markdown",
   "metadata": {},
   "source": [
    "Therefore, our formula is correct. Now, we will use Sage to determine the area of the \"final\" snowflake."
   ]
  },
  {
   "cell_type": "code",
   "execution_count": null,
   "metadata": {},
   "outputs": [],
   "source": [
    "limit(A(n),n=infinity)"
   ]
  },
  {
   "cell_type": "markdown",
   "metadata": {},
   "source": [
    "Thus, the \"final\" snowflake has finite area of 2 but infinite perimeter."
   ]
  },
  {
   "cell_type": "markdown",
   "metadata": {},
   "source": [
    "## Project\n",
    "\n",
    "Consider the original Koch snowflake and a variation given below.\n",
    "\n",
    "\n",
    "<img src=\"Images/ClassicKoch.PNG\" alt=\"drawing\" align=\"left\" width=\"900\"/>\n",
    "\n",
    "<img src=\"Images/KochVariation.PNG\" alt=\"drawing\" align=\"left\" width=\"900\"/>"
   ]
  },
  {
   "cell_type": "markdown",
   "metadata": {},
   "source": [
    "For each of the two snowflakes, you should:\n",
    "1. Present details to show that you fully understand the given flake construction.\n",
    "2. Find the area and the perimeter up to Level 4.\n",
    "3. Develop general formulas for the perimeter and area\n",
    "4. Use Sge to discover the perimeter and the area of the \"final\" snowflake.\n",
    "5. Have a discussion on what you have learned, such as some of the interesting properties of the snowflakes and how your knowledge of sequences and series aided your evalutation."
   ]
  },
  {
   "cell_type": "code",
   "execution_count": null,
   "metadata": {},
   "outputs": [],
   "source": []
  }
 ],
 "metadata": {
  "kernelspec": {
   "display_name": "SageMath 8.9",
   "language": "sage",
   "name": "sagemath"
  },
  "language_info": {
   "codemirror_mode": {
    "name": "ipython",
    "version": 2
   },
   "file_extension": ".py",
   "mimetype": "text/x-python",
   "name": "python",
   "nbconvert_exporter": "python",
   "pygments_lexer": "ipython2",
   "version": "2.7.15"
  }
 },
 "nbformat": 4,
 "nbformat_minor": 2
}
