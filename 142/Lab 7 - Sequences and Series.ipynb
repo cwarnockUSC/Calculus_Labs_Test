{
 "cells": [
  {
   "cell_type": "markdown",
   "metadata": {},
   "source": [
    "<center> <h1> Sequences and Series </h1> </center>\n",
    " \n",
    "## Overview\n",
    "\n",
    "In this lab, we will use Sage to determine the convergence or divergence of a sequence of numbers.\n",
    "\n",
    "### Important Sage Commands Introduced in this Lab\n",
    "\n",
    "\\begin{array}{|l|l|l|}\n",
    "\\hline \n",
    "\\hfill \\textbf{Command} \\hfill & \\hfill \\textbf{Description} \\hfill & \\hfill \\textbf{Example} \\hfill \\\\\n",
    "\\hline\n",
    "\\textbf{point}((x,y),\\dots) & \\text{Plots the point $(x,y)$} & \\textbf{point}((1,1), color = \"red\") \\\\\n",
    "\\hline\n",
    "\\textbf{sum}(expr, var, a, b) & \\text{Evaluates the sum $\\displaystyle \\sum_{var = a}^b expr$} & \\textbf{sum}(1/k^2, k, 1, infinity) \\\\\n",
    "\\hline\n",
    "\\textbf{factorial}(n) & \\text{Calculates $n!$} & \\textbf{factorial}(5) \\\\\n",
    "\\hline\n",
    "\\end{array}\n",
    "\n",
    "### Related Course Material\n",
    "    Sections 10.1 and 10.2"
   ]
  },
  {
   "cell_type": "markdown",
   "metadata": {},
   "source": [
    "## Example 1\n",
    "\n",
    "Consider the sequence $\\{\\cos(n\\pi)\\arctan(n)\\}_{n=1}^\\infty$. We will start by determining the first 10 terms of this sequence. We can do this in Sage by letting $a_n = \\cos(n\\pi)\\arctan(n)$ and then using a $\\textbf{for}$ loop and the $\\textbf{range}$ command."
   ]
  },
  {
   "cell_type": "code",
   "execution_count": null,
   "metadata": {},
   "outputs": [],
   "source": [
    "n=var('n')\n",
    "def a(n):\n",
    "    return cos(n * pi) * arctan(n)\n",
    "for i in range(1,11):     ## This will iterate i through the integers 1 through 10\n",
    "    print(a(i))"
   ]
  },
  {
   "cell_type": "markdown",
   "metadata": {},
   "source": [
    "We can get a better idea of what these numbers are by using the $\\textbf{round}$ command."
   ]
  },
  {
   "cell_type": "code",
   "execution_count": null,
   "metadata": {},
   "outputs": [],
   "source": [
    "for i in range(1,11):\n",
    "    print(round(a(i),5))"
   ]
  },
  {
   "cell_type": "markdown",
   "metadata": {},
   "source": [
    "Note that the terms of the sequence do not appear to approach a specific number. We can better tell what is happening by plotting the first 100 or so terms of the sequence. We can plot a point in Sage by using the $\\textbf{point}$ command along with the $\\textbf{show}$ command. To plot multiple points on the same plot, we will store the points in a list and then show the list. Sage does not allow us to plug the list directly into the $\\textbf{show}$ command. Instead, we must input the sum of the elements in the list."
   ]
  },
  {
   "cell_type": "code",
   "execution_count": null,
   "metadata": {},
   "outputs": [],
   "source": [
    "points = []     ## Creates an empty list to hold our points\n",
    "for i in range(1,101):\n",
    "    p = point((i,a(i)), color = \"red\")\n",
    "    points.append(p)\n",
    "show(sum(points))     ## Plugging the sum of the points into the show command"
   ]
  },
  {
   "cell_type": "markdown",
   "metadata": {},
   "source": [
    "From the graph, we see that the odd terms are approaching a specific value, namely $-\\frac{\\pi}{2}$, and the even terms are approaching a specfic value, namely $\\frac{\\pi}{2}.$ However, since these values are different, the sequence diverges.\n",
    "\n",
    "We can check our answer in Sage."
   ]
  },
  {
   "cell_type": "code",
   "execution_count": null,
   "metadata": {},
   "outputs": [],
   "source": [
    "limit(a(n), n=infinity)"
   ]
  },
  {
   "cell_type": "markdown",
   "metadata": {},
   "source": [
    "The output $\\textit{ind}$ for a limit means that the answer is indefinite but the terms are bounded."
   ]
  },
  {
   "cell_type": "markdown",
   "metadata": {},
   "source": [
    "## Example 2\n",
    "\n",
    "Consider the sequence $\\left\\{ \\displaystyle \\sum_{k=1}^n \\dfrac{1}{k^2} \\right\\}_{n=1}^\\infty$. Again, let us find the first 10 terms of this sequence. In order to define $a_n$, we need to recall how to define a summation in Sage. One way to do this is to place all of the summands into a list and then use the $\\textbf{sum}$ command. Let's practice this with $n = 3$. We know that when $n=3$, we should get $$\\sum_{k=1}^3 \\dfrac{1}{k^2} = 1 + \\dfrac{1}{4} + \\dfrac{1}{9} = \\dfrac{49}{36}.$$"
   ]
  },
  {
   "cell_type": "code",
   "execution_count": null,
   "metadata": {},
   "outputs": [],
   "source": [
    "summands = []\n",
    "for k in range(1,4):     ## Remember that our second input in range needs to be one higher than what we actually want\n",
    "    summands.append(1/k^2)\n",
    "sum(summands)"
   ]
  },
  {
   "cell_type": "markdown",
   "metadata": {},
   "source": [
    "Now that we know how to define the summation in Sage, we can create the sequence $a_n$."
   ]
  },
  {
   "cell_type": "code",
   "execution_count": null,
   "metadata": {},
   "outputs": [],
   "source": [
    "def a(n):\n",
    "    summands = []\n",
    "    for k in range(1, n+1):\n",
    "        summands.append(1/k^2)\n",
    "    return sum(summands)\n",
    "a(3)"
   ]
  },
  {
   "cell_type": "markdown",
   "metadata": {},
   "source": [
    "Now, let's use our definition of $a_n$ to find the first 10 terms of the sequence."
   ]
  },
  {
   "cell_type": "code",
   "execution_count": null,
   "metadata": {},
   "outputs": [],
   "source": [
    "for i in range(1,11):\n",
    "    print(a(i))"
   ]
  },
  {
   "cell_type": "markdown",
   "metadata": {},
   "source": [
    "To better see if these number are approaching a specific number, we can round."
   ]
  },
  {
   "cell_type": "code",
   "execution_count": null,
   "metadata": {},
   "outputs": [],
   "source": []
  },
  {
   "cell_type": "markdown",
   "metadata": {},
   "source": [
    "It looks like the terms are getting closer together. Let's plot the first 100 terms and see."
   ]
  },
  {
   "cell_type": "code",
   "execution_count": null,
   "metadata": {},
   "outputs": [],
   "source": []
  },
  {
   "cell_type": "markdown",
   "metadata": {},
   "source": [
    "According to the graph, these terms are converging to a specific number. In fact, they are converging to $\\dfrac{\\pi^2}{6}$."
   ]
  },
  {
   "cell_type": "code",
   "execution_count": null,
   "metadata": {},
   "outputs": [],
   "source": [
    "line = plot(pi^2/6, xmin = 0, xmax = 100)\n",
    "show(sum(points) + line)     ## You may have to change the name of the list points to whatever you called it above"
   ]
  },
  {
   "cell_type": "markdown",
   "metadata": {},
   "source": [
    "Sage has the ability to tell us that this is indeed what the sequence converges to. Unfortunately, it will not work with our current definition of $a_n$."
   ]
  },
  {
   "cell_type": "code",
   "execution_count": null,
   "metadata": {},
   "outputs": [],
   "source": [
    "limit(a(n),n=infinity)"
   ]
  },
  {
   "cell_type": "markdown",
   "metadata": {},
   "source": [
    "To fix this, we can use the $\\textbf{sum(expr, var, a, b)}$ command to define our summation instead of a $\\textbf{for}$ loop. Let's first test this command with $n = 3$ and make sure that we get $\\frac{49}{36}$ as expected."
   ]
  },
  {
   "cell_type": "code",
   "execution_count": null,
   "metadata": {},
   "outputs": [],
   "source": [
    "k = var('k')\n",
    "sum(1/k^2, k, 1, 3)"
   ]
  },
  {
   "cell_type": "markdown",
   "metadata": {},
   "source": [
    "Therefore, we will use the $\\textbf{sum}$ command and let $b = \\infty$."
   ]
  },
  {
   "cell_type": "code",
   "execution_count": null,
   "metadata": {},
   "outputs": [],
   "source": [
    "sum(1/k^2, k, 1, infinity)"
   ]
  },
  {
   "cell_type": "markdown",
   "metadata": {},
   "source": [
    "## Example 3 \n",
    "\n",
    "A typical format for a recursively defined sequence is $a_{n+1} = f(a_n)$ for $n = 1,2,3, \\dots$ with $a_1$ given explicitly. Under the assumptions that $\\{a_n\\}$ converges to $L$ and $f$ is a continuous function, we have that $$L = \\lim_{n \\rightarrow \\infty} a_{n+1} = \\lim_{n\\rightarrow \\infty} f(a_n) = f\\left(\\lim_{n\\rightarrow \\infty} a_n\\right) = f(L).$$ Therefore, $L$ must be a solution to $f(L) = L.$ This equation is often difficult to solve by hand, but we can use Sage to find a solution.\n",
    "\n",
    "Consider the recursive sequence $\\{a_n\\}$ defined by $a_1 = \\sqrt{2}$ and $a_{n+1} = \\sqrt{2 + a_n}$. Let's first determine the first 10 terms of this sequence."
   ]
  },
  {
   "cell_type": "code",
   "execution_count": null,
   "metadata": {},
   "outputs": [],
   "source": [
    "a = [sqrt(2)]     ## Defining the first term of our sequence\n",
    "for i in range(1,10):     ## Using a for loop to find a_2 through a_10\n",
    "    newTerm = sqrt(2 + a[i-1])     ## We do a[i-1] since the index of a list starts at 0 and not 1\n",
    "    print(newTerm)                 ## Prints the term a_(i+1)\n",
    "    a.append(newTerm)              ## Adds the term to the list so that it can be used to define the next term in the sequence"
   ]
  },
  {
   "cell_type": "markdown",
   "metadata": {},
   "source": [
    "We can round our outputs by either using the $\\textbf{round}$ command or by starting with $\\sqrt{2.0}$ instead of $\\sqrt{2}$."
   ]
  },
  {
   "cell_type": "code",
   "execution_count": null,
   "metadata": {},
   "outputs": [],
   "source": [
    "a = [sqrt(2.0)]\n",
    "for i in range(1,10):\n",
    "    newTerm = sqrt(2 + a[i-1])\n",
    "    print(newTerm)\n",
    "    a.append(newTerm) "
   ]
  },
  {
   "cell_type": "markdown",
   "metadata": {},
   "source": [
    "It appears that the terms are converging to $2$. First, let's check this by plotting the first 100 terms and the line $y = 2$."
   ]
  },
  {
   "cell_type": "code",
   "execution_count": null,
   "metadata": {},
   "outputs": [],
   "source": [
    "a = [sqrt(2.0)]\n",
    "for i in range(1,100):\n",
    "    newTerm = sqrt(2 + a[i-1])\n",
    "    a.append(newTerm) \n",
    "\n",
    "points = []\n",
    "for i in range(1,101):\n",
    "    p = point((i,a[i-1]), color = \"red\")     ## Again we have to use a[i-1] because of the indexing of a list starting at 0\n",
    "    points.append(p)\n",
    "\n",
    "line = plot(2, xmin=0, xmax = 100)\n",
    "\n",
    "show(sum(points) + line)"
   ]
  },
  {
   "cell_type": "markdown",
   "metadata": {
    "editable": false
   },
   "source": [
    "A second way to verify that the sequence converges to $2$ is to solve the equation $f(L) = L$; that is, we need to solve the equation $\\sqrt{2 + L} = L.$ We can solve this in Sage by using the $\\textbf{solve}$ command."
   ]
  },
  {
   "cell_type": "code",
   "execution_count": null,
   "metadata": {},
   "outputs": [],
   "source": [
    "L = var('L')\n",
    "solve(sqrt(2 + L) == L, L)"
   ]
  },
  {
   "cell_type": "markdown",
   "metadata": {},
   "source": [
    "Unfortunately, Sage offers no help with the equation in its current state. However, we can simplify the equation a bit by squaring both sides and obtaining $2 + L = L^2$. Now, we can ask Sage to solve this equation."
   ]
  },
  {
   "cell_type": "code",
   "execution_count": null,
   "metadata": {},
   "outputs": [],
   "source": [
    "solve (2 + L == L^2, L)"
   ]
  },
  {
   "cell_type": "markdown",
   "metadata": {},
   "source": [
    "Sage returns the two answers $L = 2$ and $L = -1$. We know that $a_{n+1} = \\sqrt{2 + a_n}$ will always be positive. Thus, the solution $L = -1$ is not possible. Therefore, we find that the sequence converges to $L = 2$."
   ]
  },
  {
   "cell_type": "markdown",
   "metadata": {},
   "source": [
    "## Example 4\n",
    "\n",
    "For each of the following sequences generate the first 10 terms, plot the first 100 terms, and determine whether the sequence converges or diverges. If it converges, determine the exact value it converges to.\n",
    "1. $\\left\\{\\sqrt{n^2 + n} - n\\right\\}_{n=1}^\\infty$\n",
    "2. $\\left\\{\\dfrac{10^n}{n!}\\right\\}_{n=1}^\\infty$     You need to use $\\textbf{factorial(n)}$ for n!\n",
    "3. $\\left\\{n\\sin\\left(\\dfrac{\\pi}{n}\\right)\\right\\}_{n=1}^\\infty$\n",
    "4. $\\left\\{\\ln\\left(\\dfrac{1}{n}\\right)\\right\\}_{n=1}^\\infty$"
   ]
  },
  {
   "cell_type": "code",
   "execution_count": null,
   "metadata": {},
   "outputs": [],
   "source": []
  },
  {
   "cell_type": "code",
   "execution_count": null,
   "metadata": {},
   "outputs": [],
   "source": []
  },
  {
   "cell_type": "code",
   "execution_count": null,
   "metadata": {},
   "outputs": [],
   "source": []
  },
  {
   "cell_type": "markdown",
   "metadata": {},
   "source": [
    "## Example 5\n",
    "\n",
    "Consider the recursive sequence $a_{n+1} = \\dfrac{1}{2}\\left(a_n + \\dfrac{2}{a_n}\\right)$, where $a_i = 1$. Generate the first 10 terms, plot the first 100 terms, and verify that the sequence converges to $\\sqrt{2}$."
   ]
  },
  {
   "cell_type": "code",
   "execution_count": null,
   "metadata": {},
   "outputs": [],
   "source": []
  }
 ],
 "metadata": {
  "kernelspec": {
   "display_name": "SageMath 8.9",
   "language": "sage",
   "name": "sagemath"
  },
  "language_info": {
   "codemirror_mode": {
    "name": "ipython",
    "version": 2
   },
   "file_extension": ".py",
   "mimetype": "text/x-python",
   "name": "python",
   "nbconvert_exporter": "python",
   "pygments_lexer": "ipython2",
   "version": "2.7.15"
  }
 },
 "nbformat": 4,
 "nbformat_minor": 2
}
