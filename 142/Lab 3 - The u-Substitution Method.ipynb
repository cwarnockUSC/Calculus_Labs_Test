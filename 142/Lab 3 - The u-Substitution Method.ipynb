{
 "cells": [
  {
   "cell_type": "markdown",
   "metadata": {},
   "source": [
    "<center> <h1> The u-Substitution Method </h1> </center>\n",
    " \n",
    "## Overview\n",
    "\n",
    "In this lab, we will use Sage to perform u-substitutions for both indefinite and definite integrals.\n",
    "\n",
    "### Important Sage Commands Introduced in this Lab\n",
    "\n",
    "\\begin{array}{|l|l|l|}\n",
    "\\hline \n",
    "\\hfill \\textbf{Command} \\hfill & \\hfill \\textbf{Description} \\hfill & \\hfill \\textbf{Example} \\hfill \\\\\n",
    "\\hline\n",
    "eqn\\textbf{.rhs()} & \\text{Returns the right hand side of the equations} & (x == u^3)\\textbf{.rhs()} \\\\\n",
    "\\hline\n",
    "\\textbf{solve(eqn, var)} & \\text{Solves an equation for the given variable} & \\textbf{solve($u == x^3$, $x$)} \\\\\n",
    "\\hline\n",
    "expr\\textbf{.substitute(x = expr2)} & \\text{Substitutes $\\textit{expr2}$ in for $x$ in $\\textit{expr}$} & (x + 1)\\textbf{.substitute(x = u^2 + 3)} \\\\\n",
    "\\hline\n",
    "\\end{array}\n",
    "\n",
    "### Related Course Material\n",
    "    Section 5.5"
   ]
  },
  {
   "cell_type": "markdown",
   "metadata": {},
   "source": [
    "## Example 1\n",
    "\n",
    "Let us calculate the indefinite integral $\\displaystyle \\int x^2e^{x^3} \\ dx$ by using u-substitution. First, we must decide what substitution to make. Since $x^3$ is the inside function and its derivate $3x^2$ appears in the integrand, up to a constant multiple, then we should let $u = x^3.$ We can use Sage to handle the u-substitution for us. We start by defining $f(x)$ as our integrand and $u$ as $x^3$ and then calculating $du$."
   ]
  },
  {
   "cell_type": "code",
   "execution_count": null,
   "metadata": {},
   "outputs": [],
   "source": [
    "u = var('u')     ## This is to define u as a variable\n",
    "assume(u>0)      ## This is to avoid any problems with the solve command\n",
    "def f(x):\n",
    "    return x^2 * e^(x^3)\n",
    "sub = u == x^3     ## We write u == x^3 in order to tell Sage that this is an equation\n",
    "du = diff(sub.rhs(),x)  ## This defines du as the derivative of the right hand side of the equation, u = x^3, with respect to x"
   ]
  },
  {
   "cell_type": "markdown",
   "metadata": {},
   "source": [
    "Now, we need to substitute both $u$ and $du$ into our original integral. In order to do this, we first need to solve for $u$ in terms of $x$. In this example, it can easily be done by hand to obtain $x = u^{1/3}.$ We can also use Sage to obtain the same result using the $\\textbf{solve}$ command."
   ]
  },
  {
   "cell_type": "code",
   "execution_count": null,
   "metadata": {
    "scrolled": true
   },
   "outputs": [],
   "source": [
    "solve(sub, x)"
   ]
  },
  {
   "cell_type": "markdown",
   "metadata": {},
   "source": [
    "Note that Sage returns both real and complex solutions to the equation $u = x^3$ when solving for $x$. The function $\\textbf{solve_for_x}$ defined below will returns the expected solution when solving the equation for $x$."
   ]
  },
  {
   "cell_type": "code",
   "execution_count": null,
   "metadata": {},
   "outputs": [],
   "source": [
    "def solve_for_x(sub,x):\n",
    "    a = 0\n",
    "    b = pi/2\n",
    "    xTest = uniform(a, b)\n",
    "    uTest = sub.rhs().substitute(x = xTest)\n",
    "    \n",
    "    ## If first test point was not in domain, then choose a different test point in a range which gets wider and wider\n",
    "    if (imag(uTest) != 0):\n",
    "        count = 0\n",
    "        while(imag(uTest) != 0):\n",
    "            a = 0 - 10^count\n",
    "            b = 10 + 10^count\n",
    "            xTest = randint(a, b)\n",
    "            uTest = sub.rhs().substitute(x = xTest)\n",
    "            count = count + 1\n",
    "    \n",
    "    ## Find the correct solution. Had to round for precision issues\n",
    "    for i in solve(sub,x):\n",
    "        if(imag(i.rhs().substitute(u=uTest)) == 0):\n",
    "            xTest = round(xTest,6)\n",
    "            test = round(i.rhs().substitute(u = uTest),6)\n",
    "            if (xTest == test):\n",
    "                return i\n",
    "solve_for_x(sub,x)"
   ]
  },
  {
   "cell_type": "markdown",
   "metadata": {},
   "source": [
    "Sage returns $x = u^{1/3}$ as desired. Now we can use Sage to substitute both $u$ and $du$ into our original integral."
   ]
  },
  {
   "cell_type": "code",
   "execution_count": null,
   "metadata": {},
   "outputs": [],
   "source": [
    "g(u) = (f(x)/du).substitute(solve_for_x(sub,x))\n",
    "g(u)"
   ]
  },
  {
   "cell_type": "markdown",
   "metadata": {},
   "source": [
    "Therfore, our new integrand is $\\dfrac{1}{3}e^u$. We can have Sage display the new integral by using the $\\textbf{integrate}$ command along with the parameter $\\textbf{hold = true}$ which will keep Sage from evaluating the integral."
   ]
  },
  {
   "cell_type": "code",
   "execution_count": null,
   "metadata": {},
   "outputs": [],
   "source": [
    "show(integrate(g(u),u,hold = true))"
   ]
  },
  {
   "cell_type": "markdown",
   "metadata": {},
   "source": [
    "It follows that under the u-substitution $u = x^3$, we have $$\\displaystyle \\int x^2 e^{x^3} \\ dx = \\int \\dfrac{1}{3} e^u \\ du.$$ Now, we can integrate the right integral easily by hand. We see that $$\\displaystyle \\int \\dfrac{1}{3} e^u \\ du = \\dfrac{1}{3} e^u + C.$$ Finally, we write our final answer back in terms of $x$ since that was our starting variable. Hence, we have that $$\\displaystyle \\int x^2 e^{x^3} \\ dx = \\dfrac{1}{3} e^{x^3} + C.$$"
   ]
  },
  {
   "cell_type": "markdown",
   "metadata": {},
   "source": [
    "## Example 2\n",
    "\n",
    "Let us use u-substitition to evalaute $\\displaystyle \\int 2x(x^2 + 5)^{-4} \\ dx$. We can again use Sage to perform the u-substitution by repeating the steps in Example 1 with a new integrand $f(x)$ and new $u$. In order to save time for future examples, we can package all of the steps together into a function which we will call $\\textbf{u_sub(f, sub)}$."
   ]
  },
  {
   "cell_type": "code",
   "execution_count": null,
   "metadata": {},
   "outputs": [],
   "source": [
    "def u_sub(f, sub): \n",
    "    u = var('u')\n",
    "    assume(u>0)\n",
    "    du = diff(sub.rhs(),x)\n",
    "    g(u) = (f(x)/du).substitute(solve_for_x(sub,x)).expand()\n",
    "    return show(integrate(g(u),u,hold = true))"
   ]
  },
  {
   "cell_type": "markdown",
   "metadata": {},
   "source": [
    "Before we use $\\textbf{u_sub}$ to solve our new problem, let's verify that it works by using it on the integral from Example 1."
   ]
  },
  {
   "cell_type": "code",
   "execution_count": null,
   "metadata": {},
   "outputs": [],
   "source": [
    "def f(x):\n",
    "    return x^2 * e^(x^3)\n",
    "u_sub(f, u == x^3)"
   ]
  },
  {
   "cell_type": "markdown",
   "metadata": {},
   "source": [
    "It works! Now let us try it with the integral $\\displaystyle \\int 2x(x^2 + 5)^{-4} \\ dx$. We have that $f(x) = 2x(x^2 + 5)^{-4}$ and $u = x^2 + 5$. We now use $\\textbf{u_sub}$ to rewrite the integral in terms of $u$."
   ]
  },
  {
   "cell_type": "code",
   "execution_count": null,
   "metadata": {},
   "outputs": [],
   "source": [
    "def f(x):\n",
    "    return 2*x*(x^2 + 5)^(-4)\n",
    "u_sub(f, u == x^2 + 5)"
   ]
  },
  {
   "cell_type": "markdown",
   "metadata": {},
   "source": [
    "Now, we should be able to integrate the new integral without much trouble and get $$\\displaystyle \\int \\dfrac{1}{u^4} \\ du = -\\dfrac{1}{3u^3} + C.$$ To get our final answer, we replace $u$ with $x^2 + 5$ to get $$\\displaystyle \\int 2x(x^2 + 5)^{-4} \\ dx = -\\dfrac{1}{3(x^2 + 5)^3} + C.$$ We can check our final answer in Sage by using the normal $\\textbf{integrate}$ command. (Don't forget that Sage does not include the $+ C$.)"
   ]
  },
  {
   "cell_type": "code",
   "execution_count": null,
   "metadata": {},
   "outputs": [],
   "source": [
    "show(integrate(f(x),x))"
   ]
  },
  {
   "cell_type": "markdown",
   "metadata": {},
   "source": [
    "## Example 3\n",
    "\n",
    "Now suppose we wish to evaluate the definite integral $$\\displaystyle \\int_{-1}^1 3x^2\\sqrt{x^3 + 1} \\ dx.$$ We now not only need to rewrite the integrand in terms of $u$, we also have to change the bounds to be in terms of $u$. We can use a modified version of the $\\textbf{u_sub}$ function above to accomplish this."
   ]
  },
  {
   "cell_type": "code",
   "execution_count": null,
   "metadata": {},
   "outputs": [],
   "source": [
    "def u_sub_with_bounds(f, sub, a, b):\n",
    "    u= var('u')\n",
    "    assume(u>0)\n",
    "    new_a = sub.rhs().substitute(x=a)     ## Rewrites a in terms of u\n",
    "    new_b = sub.rhs().substitute(x=b)     ## Rewrites b in terms of u\n",
    "    du = diff(sub.rhs(),x)\n",
    "    g(u) = (f(x)/du).substitute(solve_for_x(sub,x)).expand()\n",
    "    return show(integrate(g(u),u,new_a, new_b, hold = true))"
   ]
  },
  {
   "cell_type": "markdown",
   "metadata": {},
   "source": [
    "We can now use $\\textbf{u_sub_with_bounds}$ to perform a u-substitution on the integral above with integrand $f(x) = 3x^2\\sqrt{x^3 + 1}$ and $u = x^3 + 1$ and bounds $a = -1$ and $b = 1$."
   ]
  },
  {
   "cell_type": "code",
   "execution_count": null,
   "metadata": {},
   "outputs": [],
   "source": [
    "def f(x):\n",
    "    return 3*x^2 * sqrt(x^3 + 1)\n",
    "u_sub_with_bounds(f, u == x^3 + 1, -1, 1)"
   ]
  },
  {
   "cell_type": "markdown",
   "metadata": {},
   "source": [
    "We are able to solve this definite integral since we know the antiderivative of $\\sqrt{u}$.  $$\\displaystyle \\int_0^2 \\sqrt{u} \\ du = \\dfrac{2}{3}u^{3/2} \\biggr \\rvert_0^2 = \\dfrac{2}{3}(2^{3/2} - 0^{3/2}) = \\dfrac{4\\sqrt{2}}{3}.$$ We can use Sage to verify our answer by using the $\\textbf{integrate}$ command with our original integrand and bounds."
   ]
  },
  {
   "cell_type": "code",
   "execution_count": null,
   "metadata": {},
   "outputs": [],
   "source": [
    "show(integrate(f(x),x,-1,1))"
   ]
  },
  {
   "cell_type": "markdown",
   "metadata": {},
   "source": [
    "## Example 4\n",
    "\n",
    "Use the functions $\\textbf{u_sub}$ and $\\textbf{u_sub_with_bounds}$ to simply the following integrals by using u-substitition. Then solve the integrals by hand using their simplified form. Lastly, use Sage to verify that your answer is correct.\n",
    "1. $\\displaystyle \\int (3x + 2)(3x^2 + 4x)^4 \\ dx$\n",
    "2. $\\displaystyle \\int \\sqrt{x} \\sin(x^{3/2} - 1) \\ dx$\n",
    "3. $\\displaystyle \\int 3x^5\\sqrt{x^3 + 1}\\ dx$\n",
    "4. $\\displaystyle \\int_0^\\sqrt{7} x(x^2 + 1)^{1/3} \\ dx$\n",
    "5. $\\displaystyle \\int_0^{\\pi/4} \\left(1 + e^{\\tan(x)}\\right) \\sec^2(x) \\ dx$\n",
    "6. $\\displaystyle \\int_e^{e^3} \\dfrac{1}{x(\\ln(x))^2} \\ dx$"
   ]
  },
  {
   "cell_type": "code",
   "execution_count": null,
   "metadata": {},
   "outputs": [],
   "source": []
  }
 ],
 "metadata": {
  "kernelspec": {
   "display_name": "SageMath 8.9",
   "language": "sage",
   "name": "sagemath"
  },
  "language_info": {
   "codemirror_mode": {
    "name": "ipython",
    "version": 2
   },
   "file_extension": ".py",
   "mimetype": "text/x-python",
   "name": "python",
   "nbconvert_exporter": "python",
   "pygments_lexer": "ipython2",
   "version": "2.7.15"
  }
 },
 "nbformat": 4,
 "nbformat_minor": 2
}
