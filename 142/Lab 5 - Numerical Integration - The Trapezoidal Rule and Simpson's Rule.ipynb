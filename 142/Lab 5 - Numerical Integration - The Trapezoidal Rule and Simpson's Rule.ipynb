{
 "cells": [
  {
   "cell_type": "markdown",
   "metadata": {},
   "source": [
    "<center> <h1> Numerical Integration: The Trapezoidal Rule and Simpson's Rule </h1> </center>\n",
    " \n",
    "## Overview\n",
    "\n",
    "As we learned in Calculus I, there are two ways to evaluate a definite integral: using the Fundamental Theorem of Calculus or using numerical approximations such as Reimann Sums. While the FTC is nice in theory, it cannnot be applied in many cases, as antiderivatives are often difficult or even impossible to find. With the help of computers, using numerical integration is the most practical way to evaluate definite integrals. In this lab, we will use the Trapezoidal Rule and Simpson's Rule to approximate definite integrals.\n",
    "\n",
    "### Important Sage Commands Introduced in this Lab\n",
    "\n",
    "\\begin{array}{|l|l|l|}\n",
    "\\hline \n",
    "\\hfill \\textbf{Command} \\hfill & \\hfill \\textbf{Description} \\hfill & \\hfill \\textbf{Example} \\hfill \\\\\n",
    "\\hline\n",
    "[\\dots] & \\text{Creates a list containing elements} & [1,1,3,9.5] \\\\\n",
    "\\hline\n",
    "\\textbf{range(n)} & \\text{Creates the list $[0,1,\\dots,n-1]$} & \\textbf{range(5)} \\\\\n",
    "\\hline\n",
    "\\textbf{range(m,n)} & \\text{Creates the list $[m, m+1, \\dots, n-1]$} & \\textbf{range(1.6)} \\\\\n",
    "\\hline\n",
    "\\textbf{for $i$ in [$\\dots$]:} & \\text{Iterates over a list} & \\textbf{for $i$ in range(5):} \\\\\n",
    "\\ \\ \\ \\ \\ \\textbf{## do something} & & \\ \\ \\ \\ \\ \\textbf{print($i$)} \\\\\n",
    "\\hline\n",
    "\\textbf{sum}(\\textit{lst}) & \\text{Returns the sum of the elements of $\\textit{lst}$} & \\textbf{sum}([1,2, 3/2]) \\\\\n",
    "\\hline\n",
    "\\textbf{len}(\\textit{lst}) & \\text{Returns the number of elements in $\\textit{lst}$} & \\textbf{len}([1,2,3]) \\\\\n",
    "\\hline\n",
    "\\textbf{round}(\\textit{num, n}) & \\text{Rounds $\\textit{num}$ to $n$ decimal places} & \\textbf{round}(pi, 3) \\\\\n",
    "\\hline\n",
    "\\end{array}\n",
    "\n",
    "### Related Course Material\n",
    "    Section 8.7\n",
    "    \n",
    "In Calculus I, we learned how to use rectangles to approximate the definite integral. Another geometic figure which can be used to approximate the definite integeral is a trapezoid. Recall that the area of a trapzoid is $A = \\frac{1}{2}h(b_1 + b_2)$. In order to use trapezoids to approximate the definite integral, we subdivide the interval $[a,b]$ into $n$ subintervals of equal length $\\Delta x = \\frac{b-a}{n}$. Then, on each subinterval we let $h = \\Delta x$ and $b_1 = f(x_{i-1})$ and $b_2 = f(x_i)$. Thus, the area of the trapzoid in the $i^\\text{th}$ subinterval is $A = \\frac{\\Delta x}{2}(f(x_{i-1}) + f(x_i))$. Therefore, we have the following approximation of the definite integral using the Trapezoid Rule: $$\\displaystyle \\int_a^b f(x) \\ dx \\approx \\dfrac{\\Delta x}{2}\\sum_{i = 1}^{n} \\big(f(x_{i-1}) + f(x_i)\\big),$$ where $n$ is the number of trapezoids we are using in our approximation and $x_i = a + i \\Delta x$.\n",
    "\n",
    "By using trapezoids, we are essentially approximating the curve $y=f(x)$ using piecewise linear functions. In Simpson's Rule, we will instead approximate $y = f(x)$ using piecewise quadratic functions. This time, we start by subdividing the interval $[a,b]$ into $2n$ subintervals of equal length $\\Delta x$ = $\\frac{b - a}{2n}$. On each pair of subintevals $[i-1,i]$ and $[i, i+1]$ with $i$ odd, we approximate the area spanned by the two subintervals with $A = \\frac{\\Delta x}{3}(f(x_{i-1}) + 4f(x_i) + f(x_{i+1})$. Therefore, we have the following approximation of the definite integral using Simpson's Rule: $$\\displaystyle \\int_a^b f(x) \\ dx \\approx \\dfrac{\\Delta x}{3} \\sum_{i=0}^{n-1} \\big( f(x_{2i}) + 4f(x_{2i+1}) + f(x_{2i + 2})\\big)$$ where $n$ is half of the number of subintervals we are using in our approximation and $x_i = a + i \\Delta x$."
   ]
  },
  {
   "cell_type": "markdown",
   "metadata": {},
   "source": [
    "## Example 1\n",
    "\n",
    "Let us begin by practicing using lists (or arrays in some programming languages) and $\\textbf{for}$ loops. In order to create a list of elements, simply surround the elements in [ $ \\ $ ]."
   ]
  },
  {
   "cell_type": "code",
   "execution_count": null,
   "metadata": {},
   "outputs": [],
   "source": [
    "fruits = ['apple', 'banana', 'cherry']"
   ]
  },
  {
   "cell_type": "markdown",
   "metadata": {},
   "source": [
    "We can return specific values of the list by adjoining $\\textbf{[$i$]}$ immediately after the name of the name of the list. The number $i$ is refered to as the index which is the position of the element in the list. \n",
    "\n",
    "$\\textbf{Caution:}$ The starting index of a list is $0$, not $1$ as you might expect. Therefore, a list which has five elements would use the indices $0$ through $4$ and not $1$ through $5$. This is common to most programming languages."
   ]
  },
  {
   "cell_type": "code",
   "execution_count": null,
   "metadata": {},
   "outputs": [],
   "source": [
    "print(fruits[0])\n",
    "print(fruits[1])\n",
    "print(fruits[2])"
   ]
  },
  {
   "cell_type": "markdown",
   "metadata": {},
   "source": [
    "We can adjoin two lists together by using the $\\textbf{append}$ command."
   ]
  },
  {
   "cell_type": "code",
   "execution_count": null,
   "metadata": {
    "scrolled": true
   },
   "outputs": [],
   "source": [
    "fruits.append('durian')\n",
    "fruits"
   ]
  },
  {
   "cell_type": "markdown",
   "metadata": {},
   "source": [
    "$\\textbf{Caution:}$ Be careful when appending elements to a list since if you reexecute the above code, $\\textbf{fruits}$ will contain two elements of 'durian' .\n",
    "\n",
    "Note that all of the elements in the list $\\textbf{fruit}$ are strings. We can add non-strings to the list as well if we prefer. Also, we can adjoin multiple elements at once by using the $\\textbf{extend}$ command."
   ]
  },
  {
   "cell_type": "code",
   "execution_count": null,
   "metadata": {},
   "outputs": [],
   "source": [
    "fruits.extend([1, 3/2, 2.5])\n",
    "fruits"
   ]
  },
  {
   "cell_type": "markdown",
   "metadata": {},
   "source": [
    "Suppose we wanted to print all of the elements of $\\textbf{fruit}$ on individual lines. One way to do this is to have multiple lines containing print statements as we did previously. This method is not ideal, however, if our list contains many elements. A better way to accomplish this is to use a $\\textbf{for}$ loop. If we type the code $\\textbf{\"for $i$ in fruits:\"}$, then Sage will iterate the variable $i$ through each element of the list $\\textbf{fruits}$. We can then follow the $\\textbf{for}$ loop with the line $\\textbf{\"print(i)\"}$ which will print the element $i$ as $i$ iterates through all of the elements of $\\textbf{fruits}.$\n",
    "\n",
    "Note: the variable $i$ is arbitrary. You can use any letter or word you want as the iterative variable in the $\\textbf{for}$ loop."
   ]
  },
  {
   "cell_type": "code",
   "execution_count": null,
   "metadata": {
    "scrolled": true
   },
   "outputs": [],
   "source": [
    "for i in fruits:\n",
    "    print(i)"
   ]
  },
  {
   "cell_type": "markdown",
   "metadata": {},
   "source": [
    "## Example 2\n",
    "\n",
    "Create a list called \"lst\" which contains the numbers $1$ through $10$. "
   ]
  },
  {
   "cell_type": "code",
   "execution_count": null,
   "metadata": {},
   "outputs": [],
   "source": []
  },
  {
   "cell_type": "markdown",
   "metadata": {},
   "source": [
    "One way to do the above is to list all ten numbers from 1 through 10. This is doable, but not if we wanted to list the first one thousand numbers. The command $\\textbf{range($i$)}$ returns the list containing the numbers $0$ through $i-1$. This does not give us exactly the list we want, but we can use this along with a $\\textbf{for}$ loop to create the desired list."
   ]
  },
  {
   "cell_type": "code",
   "execution_count": null,
   "metadata": {},
   "outputs": [],
   "source": [
    "lst = []\n",
    "for i in range(10):\n",
    "    lst.append(i+1)\n",
    "lst"
   ]
  },
  {
   "cell_type": "markdown",
   "metadata": {},
   "source": [
    "The above code creates a blank list, and then inserts the the numbers which are one more than the elements of $\\textbf{range($10)$}$ into the list. Since $\\textbf{range($10$)}$ was the list containing the numbers 0 through 9, the new list contains the numbers $1$ through $10$.\n",
    "\n",
    "A third way we could do this is to use the $\\textbf{range(m,n)}$ command."
   ]
  },
  {
   "cell_type": "code",
   "execution_count": null,
   "metadata": {},
   "outputs": [],
   "source": [
    "lst = range(1,11)\n",
    "lst"
   ]
  },
  {
   "cell_type": "markdown",
   "metadata": {},
   "source": [
    "Note that we used $\\textbf{range(1,11)}$ to obtain the list of numbers 1 through 10. This is because the range command starts at the first number and stops at the last number minus 1.\n",
    "\n",
    "Now, add the numbers 11 through 13 to $\\textit{lst}$."
   ]
  },
  {
   "cell_type": "code",
   "execution_count": null,
   "metadata": {},
   "outputs": [],
   "source": []
  },
  {
   "cell_type": "markdown",
   "metadata": {},
   "source": [
    "Return the sum of the fourth and thirteenth elements of $\\textit{lst}$."
   ]
  },
  {
   "cell_type": "code",
   "execution_count": null,
   "metadata": {},
   "outputs": [],
   "source": []
  },
  {
   "cell_type": "markdown",
   "metadata": {},
   "source": [
    "Use a $\\textbf{for}$ loop to print the square of each number in $\\textit{lst}$ on its own line."
   ]
  },
  {
   "cell_type": "code",
   "execution_count": null,
   "metadata": {},
   "outputs": [],
   "source": []
  },
  {
   "cell_type": "markdown",
   "metadata": {},
   "source": [
    "If all of the elements in a list are numbers, then you can use the $\\textbf{sum}$ command to return the sum of all of the elements in the list."
   ]
  },
  {
   "cell_type": "code",
   "execution_count": null,
   "metadata": {},
   "outputs": [],
   "source": [
    "sum(lst)"
   ]
  },
  {
   "cell_type": "markdown",
   "metadata": {},
   "source": [
    "## Example 3\n",
    "\n",
    "We will use Sage to approximate $\\displaystyle \\int_0^1 e^{-x^2} \\ dx$ using the Trapezoid Rule with $n = 10$ trapezoids. First, we define our function and assign $a, b, n,$ and $\\Delta x$ to their appropriate values."
   ]
  },
  {
   "cell_type": "code",
   "execution_count": null,
   "metadata": {},
   "outputs": [],
   "source": [
    "def f(x):\n",
    "    return e^(-x^2)\n",
    "a = 0\n",
    "b = 1\n",
    "n = 10\n",
    "DeltaX = (b-a)/n"
   ]
  },
  {
   "cell_type": "markdown",
   "metadata": {},
   "source": [
    "Now, we will create a list which contains the summands of our Trapezoid Rule formula. Recall that the Trapezoid Rule is $$\\displaystyle \\int_a^b f(x) \\ dx \\approx\\dfrac{\\Delta x}{2}\\sum_{i = 1}^{n} \\big(f(x_{i-1}) + f(x_i)\\big).$$ \n",
    "\n",
    "We need to add the terms in the summation to our list. Note that the summation is a sum containing $n$ terms. Therefore, we will use a $\\textbf{for}$ loop which goes through $n$ terms. Remember that if we use the $\\textbf{range($n$)}$ command, then $i$ will go from $0$ to $n-1$, so we will instead use $\\textbf{range(1,n+1)}$ to go from $1$ to $n$. "
   ]
  },
  {
   "cell_type": "code",
   "execution_count": null,
   "metadata": {},
   "outputs": [],
   "source": [
    "summands = []     ## Creating a blank list\n",
    "for i in range(1,n+1):\n",
    "    summands.append(f(a + (i-1)*DeltaX) + f(a + i*DeltaX))     ## Adding f(x_(i-1)) + f(x_i) to the list"
   ]
  },
  {
   "cell_type": "markdown",
   "metadata": {},
   "source": [
    "Our list now contains all $10$ of our summands. We can check by calling the name of the list to see what it contains."
   ]
  },
  {
   "cell_type": "code",
   "execution_count": null,
   "metadata": {},
   "outputs": [],
   "source": [
    "summands"
   ]
  },
  {
   "cell_type": "markdown",
   "metadata": {},
   "source": [
    "We can also have Sage tell us exactly how many elements a list contains by using the $\\textbf{len}(\\textit{lst})$ command."
   ]
  },
  {
   "cell_type": "code",
   "execution_count": null,
   "metadata": {},
   "outputs": [],
   "source": [
    "len(summands)"
   ]
  },
  {
   "cell_type": "markdown",
   "metadata": {},
   "source": [
    "Lastly, we can complete our approximation by adding all of the summands together using the $\\textbf{sum}$ command and multiplying by $\\dfrac{\\Delta x}{2}$."
   ]
  },
  {
   "cell_type": "code",
   "execution_count": null,
   "metadata": {},
   "outputs": [],
   "source": [
    "TrapApprox = (DeltaX / 2) * sum(summands)\n",
    "TrapApprox"
   ]
  },
  {
   "cell_type": "markdown",
   "metadata": {},
   "source": [
    "In order to get a comprehensable answer, we can use the $\\textbf{round}(\\textit{num, n})$ to round the answer to $n$ decimal places."
   ]
  },
  {
   "cell_type": "code",
   "execution_count": null,
   "metadata": {},
   "outputs": [],
   "source": [
    "round(TrapApprox, 10)"
   ]
  },
  {
   "cell_type": "markdown",
   "metadata": {},
   "source": [
    "Therefore, by using the Trapezoid Rule, we get $$\\displaystyle \\int_0^1 e^{-x^2} \\ dx \\approx 0.7462107961.$$"
   ]
  },
  {
   "cell_type": "markdown",
   "metadata": {},
   "source": [
    "We can use Sage to see how close our approximation is to the actual answer."
   ]
  },
  {
   "cell_type": "code",
   "execution_count": null,
   "metadata": {
    "scrolled": true
   },
   "outputs": [],
   "source": [
    "Answer = integrate(f(x), x, 0,1)\n",
    "Error = abs(Answer - TrapApprox)\n",
    "round(Error, 10)"
   ]
  },
  {
   "cell_type": "markdown",
   "metadata": {},
   "source": [
    "Therefore, our approximation is accurate to within three decimal places."
   ]
  },
  {
   "cell_type": "markdown",
   "metadata": {},
   "source": [
    "Note that, we can combine all of the steps we used to compute the Trapezoid Rule approximation into a single function which will allow us to approximate the definite integral quicker."
   ]
  },
  {
   "cell_type": "code",
   "execution_count": null,
   "metadata": {},
   "outputs": [],
   "source": [
    "def TrapezoidRule(f, a, b, n): \n",
    "    DeltaX = (b-a)/n\n",
    "    summands = []     ## Creating a blank list\n",
    "    for i in range(1,n+1):\n",
    "            summands.append(f(a + (i-1)*DeltaX) + f(a + i*DeltaX))     ## Adding f(x_(i-1)) + f(x_i) to the list\n",
    "    return (DeltaX / 2.0) * sum(summands)"
   ]
  },
  {
   "cell_type": "markdown",
   "metadata": {},
   "source": [
    "We have just created a function which accepts arguments $f$ for our function, $a$ for our lower bound, $b$ for our upper bound, and $n$ for the number of trapezoids. We can check that this function does return what we expect by using it to calculate the Trapezoid Rule approximation we just did in detail."
   ]
  },
  {
   "cell_type": "code",
   "execution_count": null,
   "metadata": {},
   "outputs": [],
   "source": [
    "def f(x):\n",
    "    return e^(-x^2)\n",
    "TrapezoidRule(f, 0, 1, 10)"
   ]
  },
  {
   "cell_type": "markdown",
   "metadata": {},
   "source": [
    "Again, to make sense of this answer, we can use the $\\textbf{round}$ command."
   ]
  },
  {
   "cell_type": "code",
   "execution_count": null,
   "metadata": {},
   "outputs": [],
   "source": [
    "round(TrapezoidRule(f, 0, 1, 10), 10)"
   ]
  },
  {
   "cell_type": "markdown",
   "metadata": {},
   "source": [
    "## Example 4\n",
    "\n",
    "Now, we will use Sage to approximate $\\displaystyle \\int_0^1 e^{-x^2} \\ dx$ using Simpson's Rule with $n = 5$."
   ]
  },
  {
   "cell_type": "code",
   "execution_count": null,
   "metadata": {},
   "outputs": [],
   "source": [
    "def f(x):\n",
    "    return e^(-x^2)\n",
    "a = 0\n",
    "b = 1\n",
    "n = 5\n",
    "DeltaX = (b-a) / (2*n)"
   ]
  },
  {
   "cell_type": "markdown",
   "metadata": {},
   "source": [
    "Again, we will create a list which contains all of our summands of our Simpson's Rule formula. Recall that Simpson's Rule is $$\\displaystyle \\int_a^b f(x) \\ dx \\approx \\dfrac{\\Delta x}{3} \\sum_{i=0}^{n-1} \\big( f(x_{2i}) + 4f(x_{2i+1}) + f(x_{2i + 2})\\big).$$ Note that this time our summation starts at $i = 0$ and stops at $i = n-1$, so we can use $\\textbf{range(n)}.$ "
   ]
  },
  {
   "cell_type": "code",
   "execution_count": null,
   "metadata": {},
   "outputs": [],
   "source": [
    "summands = []\n",
    "for i in range(n):\n",
    "    summands.append(f(a + 2*i*DeltaX))     ## Adding f(x_2i) to summands\n",
    "    summands.append(4 * f(a + (2*i + 1)*DeltaX))     ## Adding 4f(x_(2i+1)) to summands\n",
    "    summands.append(f(a + (2*i + 2)*DeltaX))     ## Adding f(x_(2i+2)) to summands"
   ]
  },
  {
   "cell_type": "markdown",
   "metadata": {},
   "source": [
    "Now, we can get our approximation by adding all of the elements in summand and multiplying by $\\dfrac{\\Delta x}{3}.$"
   ]
  },
  {
   "cell_type": "code",
   "execution_count": null,
   "metadata": {},
   "outputs": [],
   "source": [
    "SimpApprox = (DeltaX / 3.0) * sum(summands)\n",
    "SimpApprox"
   ]
  },
  {
   "cell_type": "code",
   "execution_count": null,
   "metadata": {},
   "outputs": [],
   "source": [
    "round(SimpApprox,10)"
   ]
  },
  {
   "cell_type": "markdown",
   "metadata": {},
   "source": [
    "Therefore, Simpson's Rule gives the approximation $$\\displaystyle \\int_0^1 e^{-x^2} \\ dx \\approx .7468249483.$$\n",
    "Now, check how close the approximation is to the actual answer."
   ]
  },
  {
   "cell_type": "code",
   "execution_count": null,
   "metadata": {},
   "outputs": [],
   "source": []
  },
  {
   "cell_type": "markdown",
   "metadata": {},
   "source": [
    "It follows that our approximation using Simpson's Rule is accurate to 6 decimal places. \n",
    "\n",
    "Create the function $\\textbf{SimpsonsRule}$ which combines all the steps used to estimate the definite integral using Simpson's Rule. Then check that your function gives the same result as above."
   ]
  },
  {
   "cell_type": "code",
   "execution_count": null,
   "metadata": {},
   "outputs": [],
   "source": [
    "def SimpsonsRule(f, a, b, n):\n",
    "    ## Insert your code here"
   ]
  },
  {
   "cell_type": "markdown",
   "metadata": {},
   "source": [
    "## Example 5\n",
    "\n",
    "Use the functions $\\textbf{TrapezoidRule}$ and $\\textbf{SimpsonsRule}$ to approximate the following definite integrals with $n = 4$. Also, determine the abosolute error in each approximation. Remember that in order to use a variable other than $x$, you have to define it as a variable using the $\\textbf{var}$ command.\n",
    "\n",
    "1. $\\displaystyle \\int_0^2 (t^3 + t) \\ dt$\n",
    "2. $\\displaystyle \\int_1^2 \\dfrac{1}{s^2} \\ ds$\n",
    "3. $\\displaystyle \\int_2^4 \\dfrac{1}{(s-1)^2} \\ ds$\n",
    "4. $\\displaystyle \\int_0^\\pi \\sin(t) \\ dt$\n",
    "5. $\\displaystyle \\int_0^3 \\sqrt{x+1} \\ dx$\n",
    "6. $\\displaystyle \\int_0^3 \\dfrac{1}{\\sqrt{x+1}} \\ dx$"
   ]
  },
  {
   "cell_type": "code",
   "execution_count": null,
   "metadata": {},
   "outputs": [],
   "source": []
  }
 ],
 "metadata": {
  "kernelspec": {
   "display_name": "SageMath 8.9",
   "language": "sage",
   "name": "sagemath"
  },
  "language_info": {
   "codemirror_mode": {
    "name": "ipython",
    "version": 2
   },
   "file_extension": ".py",
   "mimetype": "text/x-python",
   "name": "python",
   "nbconvert_exporter": "python",
   "pygments_lexer": "ipython2",
   "version": "2.7.15"
  }
 },
 "nbformat": 4,
 "nbformat_minor": 2
}
