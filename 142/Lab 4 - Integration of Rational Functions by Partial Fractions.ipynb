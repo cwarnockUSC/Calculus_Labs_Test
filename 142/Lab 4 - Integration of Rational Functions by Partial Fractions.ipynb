{
 "cells": [
  {
   "cell_type": "markdown",
   "metadata": {},
   "source": [
    "<center> <h1> Integration of Rational Functions by Partial Fractions </h1> </center>\n",
    " \n",
    "## Overview\n",
    "\n",
    "In this lab, we will explore writing a rational function as a sum of simpler rational functions which can be easily integrated.\n",
    "\n",
    "### Important Sage Commands Introduced in this Lab\n",
    "\n",
    "\\begin{array}{|l|l|l|}\n",
    "\\hline \n",
    "\\hfill \\textbf{Command} \\hfill & \\hfill \\textbf{Description} \\hfill & \\hfill \\textbf{Example} \\hfill \\\\\n",
    "\\hline\n",
    "\\textbf{solve([eqns], [vars])} & \\text{Solves the system of equations $\\textit{eqns}$ for the variables $\\textit{vars}$} & \\textbf{solve}([A + B == 1, A - B == -1], [A, B]) \\\\\n",
    "\\hline\n",
    "f(x)\\textbf{.partial_fraction()} & \\text{Converts a rational function $f(x)$ into its partial fraction form} & (1/(x^2 - x))\\textbf{.partial_fraction()} \\\\\n",
    "\\hline\n",
    "(expr)\\textbf{.full_simplify()} & \\text{Fully simplifies an expression} & (x*(1 + 1/x))\\textbf{.full_simplify()} \\\\\n",
    "\\hline\n",
    "\\end{array}\n",
    "\n",
    "### Related Course Material\n",
    "    Section 8.5"
   ]
  },
  {
   "cell_type": "markdown",
   "metadata": {},
   "source": [
    "## Example 1\n",
    "\n",
    "We will use Sage to verify our partial fraction decomposition and our integration of the rational function $f(x) = \\dfrac{2}{(x+1)(x-1)}.$ The general form of the partial fraction decomposition of $f(x)$ is $$\\dfrac{2}{(x+1)(x-1)} = \\dfrac{A}{x+1} + \\dfrac{B}{x-1}.$$ In order to solve for $A$ and $B$ by hand, we would clear the denominators by multiplying both sides by the denominator original denominator. This results in the equation $$2 = A(x-1) + B(x+1) = (A + B)x + (-A + B).$$ Therefore, in order to solve for $A$ and $B$, we must solve the system of linear equations $$\\left \\{ \\begin{array}{rcl} A + B & = & 0 \\\\ -A + B & = & 2 \\end{array} \\right .$$ In the previous lab, we used the $\\textbf{solve}$ command to solve a single equation. This command will also allow us to solve a system of equations as well."
   ]
  },
  {
   "cell_type": "code",
   "execution_count": null,
   "metadata": {},
   "outputs": [],
   "source": [
    "A,B = var('A','B')     ## We first need to make A and B variables\n",
    "eq1 = A + B == 0       ## The first equation in the system\n",
    "eq2 = -A + B == 2      ## The second equation in the system\n",
    "solve([eq1, eq2], [A, B]) "
   ]
  },
  {
   "cell_type": "markdown",
   "metadata": {},
   "source": [
    "Therefore, we have that the partial fraction decomposition of our rational function is $$\\dfrac{2}{(x+1)(x-1)} = -\\dfrac{1}{x+1} + \\dfrac{1}{x-1}.$$"
   ]
  },
  {
   "cell_type": "markdown",
   "metadata": {},
   "source": [
    "We can use the command $\\textbf{.partial_fraction()}$ to check our partial fraction decomposition of $f(x)$."
   ]
  },
  {
   "cell_type": "code",
   "execution_count": null,
   "metadata": {},
   "outputs": [],
   "source": [
    "def f(x):\n",
    "    return 2/((x+1)*(x-1))\n",
    "show(f(x).partial_fraction())"
   ]
  },
  {
   "cell_type": "markdown",
   "metadata": {},
   "source": [
    "Therefore, we have that $$\\int \\dfrac{2}{(x+1)(x-1)} \\ dx = \\int -\\dfrac{1}{x+1} + \\dfrac{1}{x-1} \\ dx = -\\ln|x+1| + \\ln|x-1| + C.$$ We can use Sage to check that our answer is correct by using the $\\textbf{integrate}$ command. Remember that Sage uses $\\textbf{log(x)}$ in place of $\\textbf{ln|x|}$ and does not include $+ C$ with antiderivatives."
   ]
  },
  {
   "cell_type": "code",
   "execution_count": null,
   "metadata": {
    "scrolled": true
   },
   "outputs": [],
   "source": [
    "show(integrate(f(x),x))"
   ]
  },
  {
   "cell_type": "markdown",
   "metadata": {},
   "source": [
    "## Example 2\n",
    "\n",
    "Again, we will use Sage to help determine the partial fraction decomposition and the antiderivative of the function $f(x) = \\dfrac{6x^2 - 7x}{x^3 - 2x^2 + x - 2}$. The first thing we need to do is factor the denominator of $f(x)$. Let $denom(x) = x^3 - 2x^2 + x - 2$ be the denominator of $f(x)$. Recall that $(x-a)$ is a factor of $denom(x)$ if and only if $denom(a) = 0$. Therefore, in order to factor the cubic $denom(x)$, we look for numbers $a$ such that $denom(a) = 0$. Note that $denom(a) = 0$ if and only if $x=a$ is an $x$-intercept of $d(x)$. Therefore, we use Sage to plot $d(x)$ and determine any $x$-intercepts."
   ]
  },
  {
   "cell_type": "code",
   "execution_count": null,
   "metadata": {},
   "outputs": [],
   "source": [
    "def d(x):\n",
    "    return x^3 - 2*x^2 + x - 2\n",
    "plot(d(x),xmin = -10, xmax = 10)"
   ]
  },
  {
   "cell_type": "markdown",
   "metadata": {},
   "source": [
    "Using the domain $[-10, 10]$ we see that $d(x)$ does have an $x$-intercept. However, we can't see exactly what it is since graph is too zoomed out. We can zoom in by choosing a smaller domain."
   ]
  },
  {
   "cell_type": "code",
   "execution_count": null,
   "metadata": {
    "scrolled": false
   },
   "outputs": [],
   "source": [
    "plot(d(x), xmin=-3, xmax=3)"
   ]
  },
  {
   "cell_type": "markdown",
   "metadata": {},
   "source": [
    "Therefore, we see that $x=2$ is an $x$-intercept of $d(x)$. It follows that $(x-2)$ is a factor of $d(x)$. Thus, we know that $d(x) = (x-2)d_2(x)$ where $d_2(x)$ is a polynomial. We can find $d_2(x)$ exactly by dividing $d(x)$ by $(x-2).$ In order to have Sage divide the polynomials, we use the $\\textbf{.full_simplify()}$ command."
   ]
  },
  {
   "cell_type": "code",
   "execution_count": null,
   "metadata": {},
   "outputs": [],
   "source": [
    "d2(x) = d(x) / (x-2)\n",
    "d2(x).full_simplify()"
   ]
  },
  {
   "cell_type": "markdown",
   "metadata": {},
   "source": [
    "Therefore, $d(x)$ factors as $(x-2)(x^2+1)$. Note that $x^2 + 1$ is an irreducible quadratic. Therefore, the factorization of the denominator of $f(x)$ is $(x-2)(x^2+1)$. It follows that $f(x) = \\dfrac{6x^2 - 7x}{(x-2)(x^2+1)}$. Now that we have factored the denominator of $f(x)$, we can use partial fraction decomposition to write $f(x)$ as the sum of simpler fractions. Recall that the general form of $f(x)$ into partial fractions is $$\\dfrac{6x^2 - 7x}{(x-2)(x^2+1)} = \\dfrac{A}{x-2} + \\dfrac{Bx + C}{x^2 + 1}.$$ Multiplying both sides of the equation by $(x-2)(x^2 + 1)$ gives the equation $$ 6x^2 - 7x = A(x^2 + 1) + (Bx + C)(x-2) = (A+B)x^2 + (C - 2B)x + (A - 2C).$$ Equating coefficients, we obtain the system $$\\left \\{ \\begin{array}{rcl} A + \\ \\ B \\ \\ \\ \\ \\ \\ \\ \\ \\ \\ & = & 6 \\\\ - \\ 2B \\  + \\ \\  C & = & -7 \\\\ A \\ \\ \\ \\ \\ \\ \\ \\ \\ \\ - 2C & = & 0 \\end{array} \\right .$$ We again use Sage to solve this system."
   ]
  },
  {
   "cell_type": "code",
   "execution_count": null,
   "metadata": {},
   "outputs": [],
   "source": [
    "A,B,C = var('A','B','C')\n",
    "eq1 = ## Insert Equation 1 here\n",
    "eq2 = ## Insert Equation 2 here\n",
    "eq3 = ## Insert Equation 3 here\n",
    "solve([eq1, eq2, eq3], [A, B, C])"
   ]
  },
  {
   "cell_type": "markdown",
   "metadata": {},
   "source": [
    "You should get that $A = 2, B = 4,$ and $C = 1$. Therefore, we have $$\\int \\dfrac{6x^2 - 7x}{(x-2)(x^2 + 1)} \\ dx = \\int \\dfrac{2}{x-2} \\ dx + \\int \\dfrac{4x + 1}{x^2 + 1} \\ dx.$$ The first integral on the right side is simply $2 \\ln|x-2|.$ In order to evaluate the second integral, we first need to split the fraction into the sum of two fractions. Note that $$\\int \\dfrac{4x + 1}{x^2 + 1} \\ dx = \\int \\dfrac{4x}{x^2 + 1} \\ dx + \\int \\dfrac{1}{x^2 + 1} \\ dx = 2 \\ln|x^2 + 1| + \\tan^{-1}(x) + C,$$ where we used $u$-substitution to evaluate the first integral. Therefore, we have that $$\\int \\dfrac{6x^2 - 7x}{x^3 - 2x^2 + x - 2} \\ dx = 2\\ln |x-2| + 2\\ln|x^2 + 1| + \\tan^{-1}(x) + C.$$ Use Sage to check that this answer is correct."
   ]
  },
  {
   "cell_type": "code",
   "execution_count": null,
   "metadata": {},
   "outputs": [],
   "source": []
  },
  {
   "cell_type": "markdown",
   "metadata": {},
   "source": [
    "## Example 3\n",
    "\n",
    "Suppose that we are trying to integrate $f(x) = \\dfrac{6x^3 + 50x^2 + 136x + 128}{x^4 + 8x^3 + 18x^2 - 27}.$ Again, we will start by determining the partial fraciton decomposition of $f(x)$. First, we must factor $d(x) = x^4 + 8x^3 + 18x^2 - 27.$ Let's plot $d(x)$ and try to determine $x$-intercepts."
   ]
  },
  {
   "cell_type": "code",
   "execution_count": null,
   "metadata": {},
   "outputs": [],
   "source": [
    "def d(x):\n",
    "    return x^4 + 8*x^3 + 18*x^2 - 27\n",
    "plot(d(x), xmin=-5, xmax=5)"
   ]
  },
  {
   "cell_type": "markdown",
   "metadata": {},
   "source": [
    "We can see that both $x = -3$ and $x = 1$ are $x$-intercepts. Therefore, $d(x) = (x+3)(x-1)d_2(x)$ for some polynomial $d_2(x)$."
   ]
  },
  {
   "cell_type": "code",
   "execution_count": null,
   "metadata": {},
   "outputs": [],
   "source": [
    "d2(x) = d(x) / ((x+3)*(x-1))\n",
    "d2(x).full_simplify()"
   ]
  },
  {
   "cell_type": "markdown",
   "metadata": {},
   "source": [
    "Thus, $d(x) = (x+3)(x-1)(x^2 + 6x + 9)$. We can factor the quadratic $x^2 + 6x + 9$ and obtain $(x+3)^2$. Therefore, we have that $d(x) = (x+3)^3(x-1).$ It follows that $f(x) = \\dfrac{6x^3 + 50x^2 + 136x + 128}{(x+3)^3(x-1)}.$ Recall that the general form of the partial fraction of $f(x)$ is $$\\dfrac{6x^3 + 50x^2 + 136x + 128}{(x+3)^3(x-1)} = \\dfrac{A}{x+3} + \\dfrac{B}{(x+3)^2} + \\dfrac{C}{(x+3)^3} + \\dfrac{D}{(x-1)}.$$ $\\textbf{Note:}$ you may not have covered the general form of a repeated linear term like $(x+3)^3$ in your class. When we have a repeated linear, the general form is a constant over each power of the linear term up to the power to which it is being raised.\n",
    "\n",
    "Continue solving the problem by setting up a system of four linear equations and solving for $A, B, C,$ and $D$. Then, use the partial fraction decomposition to integrate $f(x)$."
   ]
  },
  {
   "cell_type": "code",
   "execution_count": null,
   "metadata": {},
   "outputs": [],
   "source": []
  },
  {
   "cell_type": "code",
   "execution_count": null,
   "metadata": {},
   "outputs": [],
   "source": []
  },
  {
   "cell_type": "code",
   "execution_count": null,
   "metadata": {},
   "outputs": [],
   "source": []
  },
  {
   "cell_type": "markdown",
   "metadata": {},
   "source": [
    "## Example 4\n",
    "\n",
    "For each of the rational functions below, first find the partial fraction decomposition of the function by solving a system of linear equations. Then, integrate the function by hand and use Sage to check that your integration is correct.\n",
    "1. $f1(x) = \\dfrac{7x+4}{x^2 - x - 6}$\n",
    "2. $f2(x) = \\dfrac{5x^2 + 100x - 49}{x^3+ 2x - 71x - 72}$ \n",
    "3. $f3(x) = \\dfrac{3x^2 - x + 21}{x^3 + 3x}$\n",
    "4. $f4(x) = \\dfrac{x^2 - x + 4}{x^3 - 8}$\n",
    "5. $f5(x) = \\dfrac{5x^3 - 2x^2 + 4x - 1}{x^4 - x^2}$\n",
    "6. $f6(x) = \\dfrac{2x + 2}{(x^2 + 1)(x-1)^3}$"
   ]
  },
  {
   "cell_type": "code",
   "execution_count": null,
   "metadata": {},
   "outputs": [],
   "source": []
  }
 ],
 "metadata": {
  "kernelspec": {
   "display_name": "SageMath 8.9",
   "language": "sage",
   "name": "sagemath"
  },
  "language_info": {
   "codemirror_mode": {
    "name": "ipython",
    "version": 2
   },
   "file_extension": ".py",
   "mimetype": "text/x-python",
   "name": "python",
   "nbconvert_exporter": "python",
   "pygments_lexer": "ipython2",
   "version": "2.7.15"
  }
 },
 "nbformat": 4,
 "nbformat_minor": 2
}
