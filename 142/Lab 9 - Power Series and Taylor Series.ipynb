{
 "cells": [
  {
   "cell_type": "markdown",
   "metadata": {},
   "source": [
    "<center> <h1> Power Series and Taylor Series </h1> </center>\n",
    " \n",
    "## Overview\n",
    "\n",
    "There are two fundamental questions to ask about a power series $\\displaystyle \\sum_{n=0}^\\infty c_n(x-a)^n.$\n",
    "1. For what values of $x$ does the infinite sum converge?\n",
    "2. When the series converges, to what function does it converge? Notice that, in this case, the series is the Taylor series of the function.\n",
    "\n",
    "We can answer the first question by finding the radius of convergence using the ratio test for absolute convergence and then checking the endpoints if needed.\n",
    "\n",
    "The second question, is in general, much more difficult to answer. One useful technique is to apply common operation (substitution, multiplication, division, differntiation, integration, $\\dots$) to a known power series, such as the Taylor series of a basic function. Also, Sage can usually determine the function that a series converges to.\n",
    "\n",
    "One important application of power series is to approximate a function using partial sums of its Taylor series, known as Taylor polynomials. The accuracy of the approximation depends on the size of the interval called for and the number of terms used in the partial sum. We will visualize this approximation using Sage.\n",
    "\n",
    "### Important Sage Commands Introduced in this Lab\n",
    "\n",
    "\\begin{array}{|l|l|l|}\n",
    "\\hline \n",
    "\\hfill \\textbf{Command} \\hfill & \\hfill \\textbf{Description} \\hfill & \\hfill \\textbf{Example} \\hfill \\\\\n",
    "\\hline\n",
    "\\textbf{point}((x,y),\\dots) & \\text{Plots the point $(x,y)$} & \\textbf{point}((1,1), color = \"red\") \\\\\n",
    "\\hline\n",
    "\\textbf{sum}(expr, var, a, b) & \\text{Evaluates the sum $\\displaystyle \\sum_{var = a}^b expr$} & \\textbf{sum}(1/k^2, k, 1, infinity) \\\\\n",
    "\\hline\n",
    "\\textbf{factorial}(n) & \\text{Calculates $n!$} & \\textbf{factorial}(5) \\\\\n",
    "\\hline\n",
    "\\end{array}\n",
    "\n",
    "### Related Course Material\n",
    "    Sections 10.7 - 10.9 \n",
    "    Be sure to know the following basic Taylor series.\n",
    "$$\\begin{array}{ll} \n",
    "1) \\ \\ \\dfrac{1}{1-x} = \\displaystyle\\sum_{n=0}^\\infty x^n, \\ \\ -1 < x < 1 & \n",
    "\\hspace{.5in} 2) \\ \\ e^x = \\displaystyle\\sum_{n=0}^\\infty \\dfrac{x^n}{n!}, \\ \\ -\\infty < x < \\infty \\\\\n",
    "3) \\ \\ \\sin(x) = \\displaystyle\\sum_{n=0}^\\infty \\dfrac{(-1)^nx^{2n+1}}{(2n+1)!}, \\ \\ -\\infty < x < \\infty &\n",
    "\\hspace{.5in} 4) \\ \\ \\cos(x) = \\displaystyle\\sum_{n=0}^\\infty \\dfrac{(-1)^nx^{2n}}{(2n)!}, \\ \\ -\\infty < x < \\infty \\\\\n",
    "5) \\ \\ \\ln(1 + x) = \\displaystyle\\sum_{n=0}^\\infty \\dfrac{(-1)^n x^{n+1}}{n+1}, \\ \\ -1 < x \\leq 1 & \n",
    "\\end{array}$$"
   ]
  },
  {
   "cell_type": "markdown",
   "metadata": {},
   "source": [
    "## Example 1\n",
    "\n",
    "Consider the power series $\\displaystyle \\sum_{n=0}^\\infty \\dfrac{x^{n+1}}{(n+1)5^{n+1}}.$ We will\n",
    "1. Find the interval of convergence and radius of convergence of this series.\n",
    "2. Find the function which this series converges to.\n",
    "3. Plot approximations of the function using the first 10 partial sums of its Taylor series.\n",
    "\n",
    "We will find the interval of convergence for the series using the ratio test for absolute convergence. We first define the terms $a_n$ in Sage."
   ]
  },
  {
   "cell_type": "code",
   "execution_count": null,
   "metadata": {},
   "outputs": [],
   "source": [
    "n = var('n')\n",
    "def a(n):      \n",
    "    return x^(n+1)/((n+1)*5^(n+1))"
   ]
  },
  {
   "cell_type": "markdown",
   "metadata": {},
   "source": [
    "The first step in the ratio test for absolute convergence is to find all $x$ that make $\\rho = \\displaystyle \\lim_{n\\rightarrow \\infty} \\dfrac{|a_{n+1}|}{|a_n|} < 1.$ Let us find an expression for $\\rho$."
   ]
  },
  {
   "cell_type": "code",
   "execution_count": null,
   "metadata": {},
   "outputs": [],
   "source": [
    "r = abs(a(n+1)/a(n))\n",
    "rho = limit(r, n=infinity)\n",
    "show(rho)"
   ]
  },
  {
   "cell_type": "markdown",
   "metadata": {},
   "source": [
    "Therefore, we need to find all $x$ such that $\\frac{|x|}{5} < 1$. We can easily solve this inequality and get $-5 < x < 5.$ We also could have used Sage."
   ]
  },
  {
   "cell_type": "code",
   "execution_count": null,
   "metadata": {
    "scrolled": true
   },
   "outputs": [],
   "source": [
    "solve(rho < 1, x)"
   ]
  },
  {
   "cell_type": "markdown",
   "metadata": {},
   "source": [
    "Therefore, the radius of convergence is 5. We need to check the what happens at the endpoints $x=-5$ and $x=5$. We will create the sum in Sage and evaluate it at these endpoints. In order to define the sum, we need to use the $\\textbf{assume}$ command to force $x$ to be in the interval of convergence."
   ]
  },
  {
   "cell_type": "code",
   "execution_count": null,
   "metadata": {},
   "outputs": [],
   "source": [
    "forget()      ## To forget any assumptions that may have already been made\n",
    "assume(x<5)\n",
    "assume(x>=-5)\n",
    "S = sum(a(n),n,0,infinity)\n",
    "print(S.substitute(x = -5))\n",
    "print(S.substitute(x = 5))\n",
    "forget()     ## It's good to forget assumptions once you are done with them so they dont affect your later calculations"
   ]
  },
  {
   "cell_type": "markdown",
   "metadata": {},
   "source": [
    "Therefore, we see that the series converges at $x = -5$ but diverges at $x = 5$. Thus, the interval of convergence is $[-5,5).$ We can find the function that the series converges to by simply returning the expression $S$ which we created earlier."
   ]
  },
  {
   "cell_type": "code",
   "execution_count": null,
   "metadata": {},
   "outputs": [],
   "source": [
    "S"
   ]
  },
  {
   "cell_type": "markdown",
   "metadata": {},
   "source": [
    "Remember that Sage uses $\\log$ for $\\ln$. It follows that $\\displaystyle \\sum_{n=0}^\\infty \\dfrac{x^{n+1}}{(n+1)5^{n+1}} =  -\\ln\\left(1 - \\dfrac{x}{5}\\right)$ for $x\\in[-5,5).$ Note that we could have found this without using Sage by using the Taylor series for $\\ln(1 + x)$ given above and replacing $x$ with $-\\frac{x}{5}.$ Now that we have found the function which the power series converges to, we will use the interactive plotting tool below to plot both the function and its first 10 Taylor polynomials."
   ]
  },
  {
   "cell_type": "code",
   "execution_count": null,
   "metadata": {
    "scrolled": true
   },
   "outputs": [],
   "source": [
    "import ipywidgets as widgets\n",
    "from IPython.core.display import display, HTML\n",
    "\n",
    "from sage.repl.ipython_kernel.all_jupyter import slider\n",
    "from sage.repl.ipython_kernel.all_jupyter import input_box\n",
    "from sage.repl.ipython_kernel.all_jupyter import selector\n",
    "\n",
    "var('x')\n",
    "def plot_taylor_approx(order = slider(1, 10, 1, 1), f = input_box(default = \"e^x\", type = str), \n",
    "                       center = input_box(default = \"0\", type = str), radius = input_box(default = \"1\", type = str)):\n",
    "    x0 = N(center)\n",
    "    r = N(radius)-.1\n",
    "    func = sage_eval(f + \"+ 0*x\", locals={'x':x})\n",
    "    p = plot(func,x0-r,x0+r)\n",
    "    dot = point((round(x0,8), round(func.substitute(x=x0),8)), pointsize=100,rgbcolor=(1,0,0))\n",
    "    ft = func.taylor(x,x0,order)\n",
    "    pt = plot(ft, x0-r, x0+r, color=\"green\", thickness=2)\n",
    "    pretty_print(html(r'$f(x)\\;=\\;%s$'%latex(func)))\n",
    "    pretty_print(html(r'$\\hat{f}(x;%s)\\;=\\;%s+\\mathcal{O}(x^{%s})$'%(center,latex(ft),order+1)))\n",
    "    show(dot + p + pt)\n",
    "    \n",
    "im = widgets.interact_manual(plot_taylor_approx)\n",
    "im.widget.children[4].add_class(\"top-spacing-class\")\n",
    "display(HTML(\n",
    "     \"<style>.top-spacing-class {margin-top: 20px;}</style>\"\n",
    "))\n",
    "im.widget.children[4].description = 'Evaluate'\n"
   ]
  },
  {
   "cell_type": "markdown",
   "metadata": {},
   "source": [
    "## Example 2\n",
    "\n",
    "For the following power series, do the following:\n",
    "1. Find the interval of convergence and radius of convergence of the series.\n",
    "2. Find the function which the series converges to.\n",
    "3. Use the interactive plotting tool to plot approximations of the function using the first 10 partial sums of its Taylor series.\n",
    "\n",
    "$$\\begin{array}{lll} a) \\ \\ \\displaystyle\\sum_{n=0}^\\infty x^{2n} & \\hspace{.6in} b) \\ \\ \\displaystyle\\sum_{n=0}^\\infty \\dfrac{x^{n+1}}{n!} & \\hspace{.6in} c) \\ \\ \\displaystyle\\sum_{n=0}^\\infty \\dfrac{(-1)^nx^{2n}}{(2n+1)!} \\\\\n",
    "d) \\ \\ \\displaystyle\\sum_{n=0}^\\infty nx^{n-1} & \\hspace{.6in} e) \\ \\ \\displaystyle\\sum_{n=0}^\\infty n(n-1)x^{n-2} & \\hspace{.6in} f) \\ \\ \\displaystyle\\sum_{n=0}^\\infty \\dfrac{x^{n+1}}{n+1} \\\\\n",
    "g) \\ \\ \\displaystyle\\sum_{n=0}^\\infty (x-1)^n & \\hspace{.6in} h) \\ \\ \\displaystyle\\sum_{n=0}^\\infty \\dfrac{(x - x^2)^n}{n!} & \\hspace{.6in} i) \\ \\ \\displaystyle\\sum_{n=0}^\\infty \\dfrac{x^{2n+1}}{2n+1} \n",
    "\\end{array}$$"
   ]
  },
  {
   "cell_type": "code",
   "execution_count": null,
   "metadata": {},
   "outputs": [],
   "source": []
  }
 ],
 "metadata": {
  "kernelspec": {
   "display_name": "SageMath 8.9",
   "language": "sage",
   "name": "sagemath"
  },
  "language_info": {
   "codemirror_mode": {
    "name": "ipython",
    "version": 2
   },
   "file_extension": ".py",
   "mimetype": "text/x-python",
   "name": "python",
   "nbconvert_exporter": "python",
   "pygments_lexer": "ipython2",
   "version": "2.7.15"
  }
 },
 "nbformat": 4,
 "nbformat_minor": 2
}
