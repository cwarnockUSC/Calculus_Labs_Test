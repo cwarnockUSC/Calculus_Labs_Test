{
 "cells": [
  {
   "cell_type": "markdown",
   "metadata": {},
   "source": [
    "<center> <h1> Review of Calculus 1 </h1> </center>\n",
    " \n",
    "## Overview\n",
    "\n",
    "In this lab, we will learn how to use Sage to define functions, to compute limits, derivatives, and integrals, and to plot functions.\n",
    "\n",
    "### Important Sage Commands Introduced in this Lab\n",
    "\n",
    "\\begin{array}{|l|l|l|}\n",
    "\\hline \n",
    "\\hfill \\textbf{Command} \\hfill & \\hfill \\textbf{Description} \\hfill & \\hfill \\textbf{Example} \\hfill \\\\\n",
    "\\hline\n",
    "  \\color{green}{\\text{def}} \\textbf{ f(x):} & \\text{Creates the function $f(x) = $ expression} & \\color{green}{\\text{def}} \\textbf{ f(x):}\\\\\n",
    "  \\ \\ \\ \\ \\ \\ \\color{green}{\\text{return}} \\textit{ expression} &  & \\ \\ \\ \\ \\ \\ \\color{green}{\\text{return}} \\ x^2\\\\\n",
    "\\hline\n",
    "\\textbf{var}(`\\textit{letter'}) & \\text{Makes the letter or word a variable} & h = \\textbf{var}(`h\\text{'}) \\\\\n",
    "\\hline\n",
    "\\textbf{limit}(f(x), x=a) & \\text{Evaluates } \\displaystyle \\lim_{x\\rightarrow a} f(x) & \\textbf{limit}(f(x), x=2) \\\\\n",
    "\\hline\n",
    "\\textbf{limit}(f(x), x=a, \\text{dir = '+'}) & \\text{Evaluates } \\displaystyle \\lim_{x\\rightarrow a^+} f(x) & \\textbf{limit}((f(x)+1) / (x-2), x=1, \\text{dir = '+'}) \\\\\n",
    "\\hline\n",
    "\\textbf{limit}(f(x), x=a, \\text{dir = '-'}) & \\text{Evaluates } \\displaystyle \\lim_{x\\rightarrow a^-} f(x) & \\textbf{limit}(\\text{sqrt}(x^2 - 1), x=-1, \\text{dir = '-'}) \\\\\n",
    "\\hline\n",
    "\\textbf{limit}(f(x), x=\\text{infinity}) & \\text{Evaluates } \\displaystyle \\lim_{x\\rightarrow \\infty} f(x) & \\textbf{limit}(3x / (x-2)), x=\\text{infinity}) \\\\\n",
    "\\hline\n",
    "\\textbf{limit}(f(x), x=\\text{-infinity}) & \\text{Evaluates } \\displaystyle \\lim_{x\\rightarrow -\\infty} f(x) & \\textbf{limit}(\\text{e^(3x)}, x=\\text{-infinity}) \\\\\n",
    "\\hline\n",
    "\\textbf{diff}(f(x), x) & \\text{Finds the derivative of $f(x)$} & \\textbf{diff}(x^2, x) \\\\\n",
    "\\hline\n",
    "\\textbf{diff}(f(x), x, n) & \\text{Find the $n^\\text{th}$ derivative of $f(x)$} & \\text{diff}(\\sin(x), x, 100) \\\\\n",
    "\\hline\n",
    "\\textbf{integrate}(f(x), x) & \\text{Finds an antiderivative of the function} & \\textbf{integrate}(x^3, x) \\\\\n",
    "\\hline\n",
    "\\textbf{integrate}(f(x), x, a, b) & \\text{Calculates $\\displaystyle \\int_a^b f(x) \\ dx$} & \\textbf{integrate}(x^3, x, 0, 5) \\\\\n",
    "\\hline\n",
    "\\textbf{plot}(\\dots) & \\text{Plots the function(s) according to the default options} & \\textbf{plot}(x^2, \\text{xmin $= -5$, xmax $= 7$, ymin $= 0$,} \\\\\n",
    " & \\text{or the options specified} &  \\ \\ \\ \\ \\ \\ \\ \\ \\ \\ \\text{ymax $=5$, color = 'blue', linestyle = 'dashed')} \\\\\n",
    " & & \\textbf{plot}([x^2, x^3], \\text{linestyle = ['dashed', '-.'],} \\\\\n",
    " & & \\ \\ \\ \\ \\ \\ \\ \\ \\ \\ \\text{legend_label = }[x^2, x^3])\\\\\n",
    "\\hline\n",
    "\\textbf{show}(\\dots) & \\text{Displays the argument in an intelligent way} & \\textbf{show}(3/5); \\textbf{show}(plot(f(x)) + plot(g(x))) \\\\\n",
    "\\hline\n",
    "\\end{array}\n",
    "\n",
    "### Notes\n",
    "Note that Sage's $\\textbf{integrate}$ command does not include any constants of integration. Whenever you evaluate an indefinite integral, do not forget to include a constant of integration (+C) in your answer.\n",
    "\n",
    "Basic Function and Expressions: Sage uses $\\textbf{sqrt(x)}$ for $\\sqrt{x}$, $\\textbf{abs(x)}$ for $|x|$, $\\textbf{log(x)}$ for $\\ln(x)$, $\\textbf{e}$ for Euler's constant, $\\textbf{pi}$ for $\\pi$, and $\\textbf{infinity}$ for $\\infty$. Other basic functions can be typed in as they are but you must carefully use $()$ to group together and match up expressions as needed. You must also type $*$ when multiplication is presented. For example, you need to type in $\\textbf{sin(x)}$ instead of $\\sin x$ and 2 * x / (x+y) for $\\frac{2x}{x+y}$.\n",
    "\n",
    "### Related Course Material\n",
    "    Chapters 1 - 6\n",
    "    "
   ]
  },
  {
   "cell_type": "markdown",
   "metadata": {},
   "source": [
    "## Example 1\n",
    "\n",
    "Use Sage to define the following functions and find their derivative.\n",
    "1. $f(x) = x^3 \\ln(x)$\n",
    "2. $g(x) = \\dfrac{\\arctan(x)}{\\sqrt{x^2 + 1}}$\n",
    "3. $h(x) = \\dfrac{1 - \\ln(x)}{1 + \\ln(x)}$"
   ]
  },
  {
   "cell_type": "code",
   "execution_count": null,
   "metadata": {},
   "outputs": [],
   "source": [
    "def f(x):\n",
    "    return x^3 * ln(x)\n",
    "diff(f(x),x)"
   ]
  },
  {
   "cell_type": "markdown",
   "metadata": {},
   "source": [
    "You can make Sage return the output in an easier to read way by using the $\\textbf{show($\\dots$)}$ command. This command works for most outputs in Sage."
   ]
  },
  {
   "cell_type": "code",
   "execution_count": null,
   "metadata": {},
   "outputs": [],
   "source": [
    "show(diff(f(x),x))"
   ]
  },
  {
   "cell_type": "code",
   "execution_count": null,
   "metadata": {},
   "outputs": [],
   "source": []
  },
  {
   "cell_type": "code",
   "execution_count": null,
   "metadata": {},
   "outputs": [],
   "source": []
  },
  {
   "cell_type": "markdown",
   "metadata": {},
   "source": [
    "## Example 2\n",
    "\n",
    "Use Sage to compute the first, second, third, and 100th derivative of $f(x) = x\\sin(2x).$"
   ]
  },
  {
   "cell_type": "code",
   "execution_count": null,
   "metadata": {},
   "outputs": [],
   "source": []
  },
  {
   "cell_type": "code",
   "execution_count": null,
   "metadata": {},
   "outputs": [],
   "source": []
  },
  {
   "cell_type": "code",
   "execution_count": null,
   "metadata": {},
   "outputs": [],
   "source": []
  },
  {
   "cell_type": "code",
   "execution_count": null,
   "metadata": {},
   "outputs": [],
   "source": []
  },
  {
   "cell_type": "markdown",
   "metadata": {},
   "source": [
    "## Example 3\n",
    "\n",
    "Use Sage to evaluate the following indefinite and definite integrals:\n",
    "1. $\\displaystyle \\int \\dfrac{x+1}{(x-2)^2} \\ dx$\n",
    "2. $\\displaystyle \\int_{-1}^3 xe^{-x^2} \\ dx$\n",
    "3. $\\displaystyle \\int_0^{\\pi \\ / \\ 2} \\left | \\dfrac{1}{2} - \\cos x \\right | \\ dx$"
   ]
  },
  {
   "cell_type": "code",
   "execution_count": null,
   "metadata": {},
   "outputs": [],
   "source": [
    "show(integrate((x+1)/(x-2)^2,x))"
   ]
  },
  {
   "cell_type": "markdown",
   "metadata": {},
   "source": [
    "$\\textbf{Caution:}$ The function $\\textbf{log(x)}$ in Sage is actually the natural logarithm, $\\ln|x|.$ "
   ]
  },
  {
   "cell_type": "code",
   "execution_count": null,
   "metadata": {},
   "outputs": [],
   "source": []
  },
  {
   "cell_type": "code",
   "execution_count": null,
   "metadata": {},
   "outputs": [],
   "source": []
  },
  {
   "cell_type": "markdown",
   "metadata": {},
   "source": [
    "## Example 4\n",
    "\n",
    "Use Sage to evaluate the following limits:\n",
    "1. $\\displaystyle \\lim_{r\\rightarrow 0} \\dfrac{r^2 \\arccos(r)}{(\\sin(2r))^2}$\n",
    "2. $\\displaystyle \\lim_{n \\rightarrow \\infty} (1 + 3/n)^{2n}$\n",
    "3. $\\displaystyle \\lim_{t \\rightarrow 1^+} \\tan\\left(\\frac{\\pi}{2} t\\right)$\n",
    "\n",
    "Note: In order to use a variable other than $x$ in Sage, you must first declare it as a variable using the $\\textbf{var()}$ command."
   ]
  },
  {
   "cell_type": "code",
   "execution_count": null,
   "metadata": {},
   "outputs": [],
   "source": [
    "r = var('r')\n",
    "limit((r^2 * arccos(r))/(sin(2*r)^2), r=0)"
   ]
  },
  {
   "cell_type": "code",
   "execution_count": null,
   "metadata": {},
   "outputs": [],
   "source": []
  },
  {
   "cell_type": "code",
   "execution_count": null,
   "metadata": {},
   "outputs": [],
   "source": []
  },
  {
   "cell_type": "markdown",
   "metadata": {},
   "source": [
    "## Example 5 \n",
    "\n",
    "Define the function $f(x) = \\dfrac{1}{2} x^4 - x^3 - 36x^2 + 108x$ in Sage."
   ]
  },
  {
   "cell_type": "code",
   "execution_count": null,
   "metadata": {},
   "outputs": [],
   "source": []
  },
  {
   "cell_type": "markdown",
   "metadata": {},
   "source": [
    "Find the first and second derivatives of $f(x)$ and assign them to the names $\\textbf{df}$ and $\\textbf{ddf}$."
   ]
  },
  {
   "cell_type": "code",
   "execution_count": null,
   "metadata": {},
   "outputs": [],
   "source": [
    "df = ## Insert your code here\n",
    "ddf = ## Insert your code here"
   ]
  },
  {
   "cell_type": "markdown",
   "metadata": {},
   "source": [
    "Plot the graph $y = f'(x)$ on the interval $-10 < x < 10$ and estimate the invervals on which $y = f(x)$ is increasing."
   ]
  },
  {
   "cell_type": "code",
   "execution_count": null,
   "metadata": {},
   "outputs": [],
   "source": []
  },
  {
   "cell_type": "markdown",
   "metadata": {},
   "source": [
    "Plot the graph $y = f''(x)$ on the same interval and estimate the intervals on which $f(x)$ is concave up."
   ]
  },
  {
   "cell_type": "code",
   "execution_count": null,
   "metadata": {},
   "outputs": [],
   "source": []
  },
  {
   "cell_type": "markdown",
   "metadata": {},
   "source": [
    "Create a single plot containint the graphs $y = f(x)$, $y = f'(x)$, and $y = f''(x)$ on the interval $[-10, 10].$ Make sure to graph each function in a different color and a different linestyle. Also, add a legend identifying each of the three graphs. Were your estimations in the previous two parts correct?"
   ]
  },
  {
   "cell_type": "code",
   "execution_count": null,
   "metadata": {},
   "outputs": [],
   "source": []
  }
 ],
 "metadata": {
  "kernelspec": {
   "display_name": "SageMath 8.9",
   "language": "sage",
   "name": "sagemath"
  },
  "language_info": {
   "codemirror_mode": {
    "name": "ipython",
    "version": 2
   },
   "file_extension": ".py",
   "mimetype": "text/x-python",
   "name": "python",
   "nbconvert_exporter": "python",
   "pygments_lexer": "ipython2",
   "version": "2.7.15"
  }
 },
 "nbformat": 4,
 "nbformat_minor": 2
}
