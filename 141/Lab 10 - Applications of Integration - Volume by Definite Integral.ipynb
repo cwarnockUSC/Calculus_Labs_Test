{
 "cells": [
  {
   "cell_type": "markdown",
   "metadata": {},
   "source": [
    "<center> <h1> Applications of Integration: Volume by Definite Integral </h1> </center>\n",
    " \n",
    "## Overview\n",
    "\n",
    "The topic of Volume of Revolution is often difficult for students to grasp. With different methods, formulations, and rotating axes, this topic may appear confusing at first and adequate practice is a must. In this lab, we will introduce Sage commands which will help you visualize Volume of Revolution problems.\n",
    "\n",
    "### Important Sage Commands Introduced in this Lab\n",
    "\n",
    "\\begin{array}{|l|l|l|}\n",
    "\\hline \n",
    "\\hfill \\textbf{Command} \\hfill & \\hfill \\textbf{Description} \\hfill & \\hfill \\textbf{Example} \\hfill \\\\\n",
    "\\hline\n",
    "\\textbf{revolution_plot3d}(\\textit{function}, (x, xmin, xmax), \\textit{options}) & \\text{Plots the function rotated} & \\textbf{revolution_plot3d}(x^2, (x, 0, 1), \\textit{parallel_axis = 'x'}, \\\\\n",
    " & \\text{about the axis of revolution} & \\ \\ \\ \\ \\ \\ \\ \\ \\ \\ \\textit{show_curve = True}, \\textit{opacity = .75}) \\\\\n",
    "\\hline\n",
    "\\end{array}\n",
    "\n",
    "### Related Course Material\n",
    "    6.1 and 6.2\n",
    "    "
   ]
  },
  {
   "cell_type": "markdown",
   "metadata": {},
   "source": [
    "## Example 1\n",
    "\n",
    "Consider the solid formed by rotating the region between $y = x$ and $y = 2-x^2$ from $x=0$ to $x=1$ about the $x$-axis. We will use Sage to plot this solid and then find its volume. First, we use the $\\textbf{plot}(\\dots)$ command to plot the region before it is rotated."
   ]
  },
  {
   "cell_type": "code",
   "execution_count": null,
   "metadata": {},
   "outputs": [],
   "source": [
    "plot([x,2-x^2], xmin = 0, xmax = 1)"
   ]
  },
  {
   "cell_type": "markdown",
   "metadata": {},
   "source": [
    "Next, we can use the $\\textbf{revolution_plot3d}(\\textit{function}, (x, xmin, xmax), \\textit{parallel_axis = 'x'}, \\textit{show_curve = True}, \\textit{opacity = number})$ command to plot the solid formed by rotating this region about the $x$-axis."
   ]
  },
  {
   "cell_type": "code",
   "execution_count": null,
   "metadata": {},
   "outputs": [],
   "source": [
    "p1 = revolution_plot3d(2-x^2, (x,0,1), parallel_axis = 'x', show_curve=True, opacity = .75)\n",
    "p2 = revolution_plot3d(x, (x,0,1), parallel_axis = 'x', show_curve=True)\n",
    "show(p1 + p2)"
   ]
  },
  {
   "cell_type": "markdown",
   "metadata": {},
   "source": [
    "Now that we can see the solid, we can decide whether we should use the disk/washer method to find the volume, or the shell method. For this example, it is easier to use the disk/washer method since we can find the volume with a single integral. Since there is some open space in our solid, we need to use the washer method. Recall that the formula for calculating the volume using the washer method is $$V = \\pi\\int_a^b (R(x)^2 - r(x)^2) \\ dx,$$ where $R(x)$ is the top function and $r(x)$ is the bottom function. In this example, we have that $R(x) = 2 - x^2$ and $r(x) = x.$ We can use Sage to calculate this volume using the $\\textbf{integrate}(\\dots)$ command from Lab 9."
   ]
  },
  {
   "cell_type": "code",
   "execution_count": null,
   "metadata": {},
   "outputs": [],
   "source": [
    "def R(x):\n",
    "    return 2 - x^2\n",
    "def r(x):\n",
    "    return x\n",
    "show(pi * integrate(R(x)^2 - r(x)^2, x, 0, 1))"
   ]
  },
  {
   "cell_type": "markdown",
   "metadata": {},
   "source": [
    "Therefore, the solid formed by rotating the region between $y = x$ and $y = 2-x^2$ from $x=0$ to $x=1$ about the $x$-axis has volume $\\dfrac{38}{15}\\pi.$"
   ]
  },
  {
   "cell_type": "markdown",
   "metadata": {},
   "source": [
    "## Example 2\n",
    "\n",
    "Consider the solid formed by rotating the region between $y = \\cos(x)$ and $y = \\sin(x)$ from $x = 0$ to $x = \\dfrac{\\pi}{4}$ about the $y$-axis."
   ]
  },
  {
   "cell_type": "code",
   "execution_count": null,
   "metadata": {},
   "outputs": [],
   "source": [
    "plot([cos(x), sin(x)], xmin = 0, xmax = pi/4)"
   ]
  },
  {
   "cell_type": "markdown",
   "metadata": {},
   "source": [
    "This time, we are revolving the region around the $y$-axis. In order to do that, we need to omit the $\\textit{parallel_axis = 'x'}$ from the $\\textbf{revolution_plot3d}(\\dots)$ command."
   ]
  },
  {
   "cell_type": "code",
   "execution_count": null,
   "metadata": {},
   "outputs": [],
   "source": [
    "p1 = revolution_plot3d(cos(x), (x,0,pi/4), show_curve=True, opacity = .75)\n",
    "p2 = revolution_plot3d(sin(x), (x,0,pi/4), show_curve=True)\n",
    "show(p1 + p2)"
   ]
  },
  {
   "cell_type": "markdown",
   "metadata": {},
   "source": [
    "Now, we need to decide whether we should use the disk/washer method or the shell method. By looking at the solid, we can see that using rectangles which run parallel to the axis of revolution will result in only having to use a single integral to calculate the volume. Therefore, we will use the shell method. Recall that the formula for calculating the volume using the shell method is $$V = 2\\pi\\int_a^b r(x)h(x) \\ dx,$$ where $r(x)$ is the distance that our generic rectangle is from the axis of revolution and $h(x)$ is the height of our generic rectangle. Since the axis of revolution is the $y$-axis, we have that $r(x) = x$. Since $\\cos(x)$ is the top function and $\\sin(x)$ is the bottom function in this region, we see that $h(x) = \\cos(x) - \\sin(x).$"
   ]
  },
  {
   "cell_type": "code",
   "execution_count": null,
   "metadata": {},
   "outputs": [],
   "source": [
    "def r(x):\n",
    "    return x\n",
    "def h(x):\n",
    "    return cos(x) - sin(x)\n",
    "show(2 * pi * integrate(r(x)*h(x), x, 0, pi/4))"
   ]
  },
  {
   "cell_type": "markdown",
   "metadata": {},
   "source": [
    "Therefore, the solid formed by rotating the region between $y = \\cos(x)$ and $y = \\sin(x)$ from $x = 0$ to $x = \\dfrac{\\pi}{4}$ about the $y$-axis has volume $\\dfrac{1}{2}\\pi (\\sqrt{2}\\pi - 4).$"
   ]
  },
  {
   "cell_type": "markdown",
   "metadata": {},
   "source": [
    "## Example 3\n",
    "\n",
    "Consider the solid formed by rotating the region in the first quadrant bounded between the functions $f(x) = x^3$ and $g(x) = 7x - 6$ about the $x$-axis. In order to plot this region, we need to determine the domain for the bounded region. Note that the endpoints of the bounded region are $x$-values such that $f(x) = g(x)$. We can use Sage to find these values."
   ]
  },
  {
   "cell_type": "code",
   "execution_count": null,
   "metadata": {},
   "outputs": [],
   "source": [
    "def f(x):\n",
    "    return x^3\n",
    "def g(x):\n",
    "    return 7*x - 6\n",
    "solve(f(x) == g(x), x)"
   ]
  },
  {
   "cell_type": "markdown",
   "metadata": {},
   "source": [
    "Since we want the bounded region in the first quadrant, we use the domain $[1,2]$."
   ]
  },
  {
   "cell_type": "code",
   "execution_count": null,
   "metadata": {
    "scrolled": false
   },
   "outputs": [],
   "source": [
    "plot([f(x), g(x)], xmin = 1, xmax = 2)"
   ]
  },
  {
   "cell_type": "code",
   "execution_count": null,
   "metadata": {
    "scrolled": false
   },
   "outputs": [],
   "source": [
    "p1 = revolution_plot3d(7*x-6, (x,1,2), parallel_axis = 'x', show_curve=True, rgbcolor=(1,0.5,0), opacity = .5)\n",
    "p2 = revolution_plot3d(x^3, (x,1,2), parallel_axis = 'x', show_curve=True)\n",
    "show(p1 + p2)"
   ]
  },
  {
   "cell_type": "markdown",
   "metadata": {},
   "source": [
    "For this solid, we can calculate the volume using both the disk/washer method and the shell method. We will use both and verify that they give the same value. First, we will use the disk/washer method. Note that the top function is $R(x) = 7x - 6$ and the bottom function is $r(x) = x^3.$ "
   ]
  },
  {
   "cell_type": "code",
   "execution_count": null,
   "metadata": {},
   "outputs": [],
   "source": [
    "def R(x):\n",
    "    return 7*x - 6\n",
    "def r(x):\n",
    "    return x^3\n",
    "show(pi * integrate(R(x)^2 - r(x)^2, x, 1, 2))"
   ]
  },
  {
   "cell_type": "markdown",
   "metadata": {},
   "source": [
    "Now, we will use the shell method. Since we are using the shell method on a solid which was formed by rotating a region about the $x$-axis, we need to write the functions $f(x)$ and $g(x)$ in terms of $y$ instead of $x$. Note that $$y = f(x) = x^3 \\implies x = f^{-1}(y) = y^{1/3}$$ and $$y = g(x) = 7x-6 \\implies x = g^{-1}(y) = \\dfrac{y + 6}{7}.$$ Also, we need to change the bounds $x=1$ and $x=2$ to be in terms of $y$. We can use either $f(x)$ or $g(x)$ to find the corresponding $y$-values. "
   ]
  },
  {
   "cell_type": "code",
   "execution_count": null,
   "metadata": {},
   "outputs": [],
   "source": [
    "print(f(1))\n",
    "print(f(2))"
   ]
  },
  {
   "cell_type": "markdown",
   "metadata": {},
   "source": [
    "Thus, our new bounds are $y = 1$ and $y = 8$. Note that from the perspective of the $y$-axis, $f^{-1}(y)$ is the top function and $g^{-1}(y)$ is the bottom function."
   ]
  },
  {
   "cell_type": "code",
   "execution_count": null,
   "metadata": {},
   "outputs": [],
   "source": [
    "y = var('y')\n",
    "def finv(y):\n",
    "    return y^(1/3)\n",
    "def ginv(y):\n",
    "    return (y+6)/7\n",
    "show(2 * pi * integrate(y * (finv(y) - ginv(y)), y, 1, 8))"
   ]
  },
  {
   "cell_type": "markdown",
   "metadata": {},
   "source": [
    "Therefore, using either method, we found that the volume of the solid formed by rotating the region in the first quadrant bounded between $f(x)$ and $g(x)$ about the $x$-axis is $\\dfrac{130}{21}\\pi.$"
   ]
  },
  {
   "cell_type": "markdown",
   "metadata": {},
   "source": [
    "## Example 4\n",
    "\n",
    "Find the volume formed by rotating the following regions about the $x$-axis.\n",
    "1. $y = x^2, y = 2 - x, y = 0$\n",
    "2. $y = \\sqrt{x}, y = 2 - x, y = 0$\n",
    "3. $y = \\sqrt{x}, y = 2 - x, x = 0$"
   ]
  },
  {
   "cell_type": "code",
   "execution_count": null,
   "metadata": {},
   "outputs": [],
   "source": []
  },
  {
   "cell_type": "code",
   "execution_count": null,
   "metadata": {},
   "outputs": [],
   "source": []
  },
  {
   "cell_type": "code",
   "execution_count": null,
   "metadata": {},
   "outputs": [],
   "source": []
  },
  {
   "cell_type": "code",
   "execution_count": null,
   "metadata": {},
   "outputs": [],
   "source": []
  },
  {
   "cell_type": "markdown",
   "metadata": {},
   "source": [
    "## Example 5\n",
    "\n",
    "Find the volume formed by rotating the following regions about the $y$-axis.\n",
    "1. $y = 1/x, x = 2, y = 2$\n",
    "2. $y = \\sqrt{x}, y = 2 - x, y = 0$\n",
    "3. $y = \\sqrt{x}, y = 2 - x, x = 0$"
   ]
  },
  {
   "cell_type": "code",
   "execution_count": null,
   "metadata": {},
   "outputs": [],
   "source": []
  }
 ],
 "metadata": {
  "kernelspec": {
   "display_name": "SageMath 8.9",
   "language": "sage",
   "name": "sagemath"
  },
  "language_info": {
   "codemirror_mode": {
    "name": "ipython",
    "version": 2
   },
   "file_extension": ".py",
   "mimetype": "text/x-python",
   "name": "python",
   "nbconvert_exporter": "python",
   "pygments_lexer": "ipython2",
   "version": "2.7.15"
  }
 },
 "nbformat": 4,
 "nbformat_minor": 2
}
