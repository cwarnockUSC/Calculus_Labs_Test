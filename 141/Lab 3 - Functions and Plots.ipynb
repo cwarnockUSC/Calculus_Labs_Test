{
 "cells": [
  {
   "cell_type": "markdown",
   "metadata": {},
   "source": [
    "<center> <h1> Functions and Plots </h1> </center>\n",
    " \n",
    "## Overview\n",
    "\n",
    "In your Calculus course, you will encounter many types of functions. The most beneficial way of understanding how a function behaves is to study its graph. In this lab, we will learn how to use Sage to create graphs of various functions.\n",
    "\n",
    "### Important Sage Commands Introduced in this Lab\n",
    "\n",
    "\\begin{array}{|l|l|l|}\n",
    "\\hline\n",
    "\\hfill \\textbf{Command} \\hfill & \\hfill \\textbf{Description} \\hfill & \\hfill \\textbf{Example} \\hfill \\\\\n",
    "\\hline\n",
    "\\textit{function}\\textbf{?} & \\text{Displays the documentation for the function or constant} & \\textit{plot}\\textbf{?} \\\\\n",
    "\\hline\n",
    "\\textbf{plot}(\\dots) & \\text{Plots the function(s) according to the default options} & \\textbf{plot}(x^2, \\text{xmin $= -10$, xmax $= 7$, ymin $= 0$, ymax $= 10$, color = 'blue')} \\\\\n",
    " & \\text{or the options specified} & \\textbf{plot}([x^2, x^3], \\text{linestyle = ['dashed', '-.'],\n",
    "     legend_label = }[x^2, x^3])\\\\\n",
    "\\hline\n",
    "\\end{array}\n",
    "\n",
    "### Related Course Material\n",
    "    Section 1.4"
   ]
  },
  {
   "cell_type": "markdown",
   "metadata": {},
   "source": [
    "## Example 1\n",
    "Sage has many built in functions, commands, and constants such as $\\tan(x), \\textbf{expand}(\\dots), \\pi,$ etc. One way to learn more about these is to read the Sage documentation. The easiest way to do this in the notebook is to use the $\\textbf{?}$ command."
   ]
  },
  {
   "cell_type": "code",
   "execution_count": null,
   "metadata": {},
   "outputs": [],
   "source": [
    "expand?"
   ]
  },
  {
   "cell_type": "markdown",
   "metadata": {},
   "source": [
    "This command opens up a new window at the bottom of the screen filled with useful information and examples on how to use the function or command. Use Sage to bring up the documentation for the $\\textbf{plot}$ command and look through all of the available options you have to customize your graph of a function."
   ]
  },
  {
   "cell_type": "code",
   "execution_count": null,
   "metadata": {},
   "outputs": [],
   "source": []
  },
  {
   "cell_type": "markdown",
   "metadata": {},
   "source": [
    "We will use this information to plot $\\cos(x)$ as an orange dashed line in the viewing window $[-2\\pi, 2\\pi] \\times [-1,1]$."
   ]
  },
  {
   "cell_type": "code",
   "execution_count": null,
   "metadata": {},
   "outputs": [],
   "source": [
    "plot(cos(x), xmin = -2*pi, xmax = 2*pi, ymin = -1, ymax = 1, color = 'orange', linestyle = 'dashed')"
   ]
  },
  {
   "cell_type": "markdown",
   "metadata": {},
   "source": [
    "## Example 2\n",
    "\n",
    "Plot the function $f(x) = \\sqrt{x-2} + 1$ as a green dotted line with the $x$-range being $2 \\leq x \\leq 11$."
   ]
  },
  {
   "cell_type": "code",
   "execution_count": null,
   "metadata": {},
   "outputs": [],
   "source": []
  },
  {
   "cell_type": "markdown",
   "metadata": {},
   "source": [
    "Note that if you did not specify a range for the $y$-values, then Sage chooses the smallest range which will completely fit the graph."
   ]
  },
  {
   "cell_type": "markdown",
   "metadata": {},
   "source": [
    "## Example 3\n",
    "\n",
    "Using the documentation as a reference, plot the function $f(x) = (x-3)^3 + 2$ from $0 \\leq x \\leq 6$. Change the line thickness to $2$ (the default is 1), fill in the area between $f(x)$ and the $x$-axis, and add a legend."
   ]
  },
  {
   "cell_type": "code",
   "execution_count": null,
   "metadata": {},
   "outputs": [],
   "source": []
  },
  {
   "cell_type": "markdown",
   "metadata": {},
   "source": [
    "## Example 4\n",
    "\n",
    "Suppose we wish to plot multiple functions on the same graph. We can do this using $\\textbf{plot}$ by including lists of functions instead of a single function. Also, if we wish to alter the options for each function in our graph, we can include the options as a list as well. \n",
    "\n",
    "The code below will plot the function $f(x) = x^2$ as a green line and the function $g(x) = x^4$ as an orange line. It will plot them on the domain $-1 \\leq x \\leq 1$, will shade in the area between them, and will add a legend."
   ]
  },
  {
   "cell_type": "code",
   "execution_count": null,
   "metadata": {},
   "outputs": [],
   "source": [
    "plot([x^2,x^4], xmin = -1, xmax = 1, color = ['green', 'orange'], fill = [x^4, false], legend_label = [x^2, x^4])"
   ]
  },
  {
   "cell_type": "markdown",
   "metadata": {},
   "source": [
    "## Example 5\n",
    "\n",
    "On the same graph, plot the functions $f(x) = 2\\sin(4x), g(x) = 2 + \\cos\\left(\\frac{x}{2}\\right),$ and $h(x) = \\sin(x)^2$ on the viewing window $[-\\pi, \\pi] \\times [-4, 4].$ Make each function have a different color and different linestyle. Color in the area between $f(x)$ and $h(x)$ and add a legend. "
   ]
  },
  {
   "cell_type": "code",
   "execution_count": null,
   "metadata": {},
   "outputs": [],
   "source": []
  }
 ],
 "metadata": {
  "kernelspec": {
   "display_name": "SageMath 8.9",
   "language": "sage",
   "name": "sagemath"
  },
  "language_info": {
   "codemirror_mode": {
    "name": "ipython",
    "version": 2
   },
   "file_extension": ".py",
   "mimetype": "text/x-python",
   "name": "python",
   "nbconvert_exporter": "python",
   "pygments_lexer": "ipython2",
   "version": "2.7.15"
  }
 },
 "nbformat": 4,
 "nbformat_minor": 2
}
