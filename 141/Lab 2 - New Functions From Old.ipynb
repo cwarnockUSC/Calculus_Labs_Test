{
 "cells": [
  {
   "cell_type": "markdown",
   "metadata": {},
   "source": [
    " <center> <h1> New Functions From Old </h1> </center> \n",
    " \n",
    "## Overview\n",
    "\n",
    "In this lab, we will use Sage to create functions and then use these functions to create new funcitons. Also, we will learn how to simplify and expand expressions and how to evaluate them at given values.\n",
    "\n",
    "### Important Sage Commands Introduced in this Lab\n",
    "\n",
    "\\begin{array}{|l|l|l|}\n",
    "\\hline \n",
    "\\hfill \\hspace{.7in} \\textbf{Command} \\hspace{.7in} \\hfill & \\hfill \\hspace{.7in} \\textbf{Description} \\hspace{.7in} \\hfill & \\hfill \\hspace{.7in} \\textbf{Example} \\hspace{.7in} \\hfill \\\\\n",
    "\\hline\n",
    "  \\color{green}{\\text{def}} \\textbf{ f(x):} & \\text{Creates the function $f(x) = $ expression} & \\color{green}{\\text{def}} \\textbf{ f(x):}\\\\\n",
    "  \\ \\ \\ \\ \\ \\ \\color{green}{\\text{return}} \\textit{ expression} &  & \\ \\ \\ \\ \\ \\ \\color{green}{\\text{return}} \\ x^2\\\\\n",
    "  \\hline\n",
    "  (\\textit{expression})\\textbf{.full_simplify()} & \\text{Simplifies the function or expression} & (x*(1 + 1/x))\\textbf{.full_simplify()} \\\\\n",
    "  \\hline\n",
    "  \\textbf{expand}(\\textit{expression}) & \\text{Expands the function or expression} & \\textbf{expand}(x-(x-1)^8) \\\\\n",
    "  \\hline\n",
    "  \\textbf{var}(`\\textit{letter'}) & \\text{Makes the letter or word a variable} & h = \\textbf{var}(`h\\text{'}) \\\\\n",
    "  \\hline\n",
    "  (\\textit{expression})\\textbf{(h=a)} & \\text{Substitutes the number $a$ in for $h$ in the expression} & ((x-1)^2+1)\\textbf{(x=1)} \\\\\n",
    "  \\hline\n",
    "\\end{array}\n",
    "\n",
    "### Related Course Material\n",
    "    Section 1.2"
   ]
  },
  {
   "cell_type": "markdown",
   "metadata": {},
   "source": [
    "## Example 1\n",
    "Suppose $f(x)$ and $g(x)$ are functions. There are countless ways to combine these functions to create a new function. Some basic examples of this are $f(x) + g(x)$, $f(x) - g(x)$, $f(x)g(x)$, $\\dfrac{f(x)}{g(x)}$ and $f(g(x))$.\n",
    "\n",
    "We first use Sage to set $f(x) = 2\\sqrt{x-1}$ and $g(x) = \\sqrt{x-1}$. "
   ]
  },
  {
   "cell_type": "code",
   "execution_count": null,
   "metadata": {},
   "outputs": [],
   "source": [
    "def f(x):\n",
    "    return 2*sqrt(x-1)\n",
    "def g(x):\n",
    "    return #Insert your code here"
   ]
  },
  {
   "cell_type": "markdown",
   "metadata": {},
   "source": [
    "Now, we will use $f(x)$ and $g(x)$ to create the five new functions $f(x) + g(x)$, $f(x) - g(x)$, $f(x)g(x)$, $\\dfrac{f(x)}{g(x)}$ and $f(g(x))$."
   ]
  },
  {
   "cell_type": "code",
   "execution_count": null,
   "metadata": {},
   "outputs": [],
   "source": [
    "f(x) + g(x)"
   ]
  },
  {
   "cell_type": "code",
   "execution_count": null,
   "metadata": {},
   "outputs": [],
   "source": [
    "f(x) - g(x)"
   ]
  },
  {
   "cell_type": "code",
   "execution_count": null,
   "metadata": {},
   "outputs": [],
   "source": []
  },
  {
   "cell_type": "code",
   "execution_count": null,
   "metadata": {},
   "outputs": [],
   "source": []
  },
  {
   "cell_type": "code",
   "execution_count": null,
   "metadata": {},
   "outputs": [],
   "source": []
  },
  {
   "cell_type": "markdown",
   "metadata": {},
   "source": [
    "Observe how Sage automatically simplified each output. Unforunately, this is not always the case. Consider the expression $x\\left(1 + \\frac{1}{x}\\right)$. We know that this expression can easily simplify to $x + 1$. Type this expression below and see what Sage returns."
   ]
  },
  {
   "cell_type": "code",
   "execution_count": null,
   "metadata": {},
   "outputs": [],
   "source": []
  },
  {
   "cell_type": "markdown",
   "metadata": {},
   "source": [
    "Sage did not sipmlify the expression, but instead returned exactly what we typed in. We can make Sage simplify the expression as much as possible by using the command $\\textbf{.full_simplify()}$."
   ]
  },
  {
   "cell_type": "code",
   "execution_count": null,
   "metadata": {},
   "outputs": [],
   "source": [
    "(x*(1+1/x)).full_simplify()"
   ]
  },
  {
   "cell_type": "markdown",
   "metadata": {},
   "source": [
    "## Example 2\n",
    "\n",
    "Repeat Example 1 using the functions $f(x) = 1 + \\frac{x}{x+1}$ and $g(x) = 2 - \\frac{1}{x}$. Use the command $\\textbf{.full_simplify()}$ to fully simplify each expression."
   ]
  },
  {
   "cell_type": "code",
   "execution_count": null,
   "metadata": {},
   "outputs": [],
   "source": []
  },
  {
   "cell_type": "code",
   "execution_count": null,
   "metadata": {},
   "outputs": [],
   "source": []
  },
  {
   "cell_type": "code",
   "execution_count": null,
   "metadata": {},
   "outputs": [],
   "source": []
  },
  {
   "cell_type": "code",
   "execution_count": null,
   "metadata": {},
   "outputs": [],
   "source": []
  },
  {
   "cell_type": "code",
   "execution_count": null,
   "metadata": {},
   "outputs": [],
   "source": []
  },
  {
   "cell_type": "code",
   "execution_count": null,
   "metadata": {},
   "outputs": [],
   "source": []
  },
  {
   "cell_type": "markdown",
   "metadata": {},
   "source": [
    "## Example 3\n",
    "\n",
    "Now, set $f(x) = x^2 + 1$. Find and simplify the functions $f(5x+2), 3f(1/x),$ and $f(f(f(x)))$."
   ]
  },
  {
   "cell_type": "code",
   "execution_count": null,
   "metadata": {},
   "outputs": [],
   "source": []
  },
  {
   "cell_type": "code",
   "execution_count": null,
   "metadata": {},
   "outputs": [],
   "source": []
  },
  {
   "cell_type": "code",
   "execution_count": null,
   "metadata": {},
   "outputs": [],
   "source": []
  },
  {
   "cell_type": "code",
   "execution_count": null,
   "metadata": {},
   "outputs": [],
   "source": []
  },
  {
   "cell_type": "markdown",
   "metadata": {},
   "source": [
    "Note that both $f(5x+2)$ and $f(f(f(x)))$ are polynomials, but they are written in factored or compact form. If we want to expand the polynomial, we can use the $\\textbf{.full_simplify()}$ command from earlier, or we could use the $\\textbf{expand}(\\textit{expression})$ command."
   ]
  },
  {
   "cell_type": "code",
   "execution_count": null,
   "metadata": {},
   "outputs": [],
   "source": [
    "f(5*x+2).full_simplify()"
   ]
  },
  {
   "cell_type": "code",
   "execution_count": null,
   "metadata": {},
   "outputs": [],
   "source": [
    "expand(f(5*x+2))"
   ]
  },
  {
   "cell_type": "markdown",
   "metadata": {},
   "source": [
    "Use both of these commands to expand $f(f(f(x)))$ and see if they give the same result."
   ]
  },
  {
   "cell_type": "code",
   "execution_count": null,
   "metadata": {},
   "outputs": [],
   "source": []
  },
  {
   "cell_type": "code",
   "execution_count": null,
   "metadata": {},
   "outputs": [],
   "source": []
  },
  {
   "cell_type": "markdown",
   "metadata": {},
   "source": [
    "## Example 4\n",
    "\n",
    "Recall that the difference quotient of a function is the expression $\\dfrac{f(x+h) - f(x)}{h}$. We will use Sage to simplify this expression for the function $f(x) = 5x^3 + 2x + 1$. First, create the function $f(x)$ below."
   ]
  },
  {
   "cell_type": "code",
   "execution_count": null,
   "metadata": {},
   "outputs": [],
   "source": []
  },
  {
   "cell_type": "markdown",
   "metadata": {},
   "source": [
    "In order for Sage to simplify the difference quotient, we need to tell Sage that $h$ is also a variable like $x$. We do this by using the $\\textbf{var}(`letter\\textit{'})$ command."
   ]
  },
  {
   "cell_type": "code",
   "execution_count": null,
   "metadata": {},
   "outputs": [],
   "source": [
    "h = var('h')"
   ]
  },
  {
   "cell_type": "markdown",
   "metadata": {},
   "source": [
    "Now, Sage will treat $h$ like a variable. Below, simplify the difference quotient of $f(x)$ and assign this expression to the name DiffQuot. Once simplified, the expressions should be a polynomial."
   ]
  },
  {
   "cell_type": "code",
   "execution_count": null,
   "metadata": {},
   "outputs": [],
   "source": [
    "DiffQuot = #Insert your code here\n",
    "DiffQuot"
   ]
  },
  {
   "cell_type": "markdown",
   "metadata": {},
   "source": [
    "Note that this expression is not completely simplified. Again, we can use the $\\textbf{.full_simplify()}$ command to fully simplify the difference quotient."
   ]
  },
  {
   "cell_type": "code",
   "execution_count": null,
   "metadata": {},
   "outputs": [],
   "source": [
    "DiffQuot = DiffQuot.full_simplify()\n",
    "DiffQuot"
   ]
  },
  {
   "cell_type": "markdown",
   "metadata": {},
   "source": [
    "Now, the difference quotient is fully simplifed. Suppose we wish to evaluate this new expression at $h=0$. We can do this by appending $\\textbf{(h=0)}$ after our expression."
   ]
  },
  {
   "cell_type": "code",
   "execution_count": null,
   "metadata": {},
   "outputs": [],
   "source": [
    "DiffQuot(h=0)"
   ]
  },
  {
   "cell_type": "markdown",
   "metadata": {},
   "source": [
    "## Example 5\n",
    "\n",
    "Repeat Example 4 using the function $f(x) = \\dfrac{1}{(x+1)^2}$."
   ]
  },
  {
   "cell_type": "code",
   "execution_count": null,
   "metadata": {},
   "outputs": [],
   "source": []
  },
  {
   "cell_type": "code",
   "execution_count": null,
   "metadata": {},
   "outputs": [],
   "source": []
  },
  {
   "cell_type": "code",
   "execution_count": null,
   "metadata": {},
   "outputs": [],
   "source": []
  },
  {
   "cell_type": "markdown",
   "metadata": {},
   "source": [
    "## Example 6\n",
    "\n",
    "Find and fully simplify $f(g(x))$, $g(f(x))$, $f(g(f(x)))$ and $g(f(x) + g(x))$ for the following choices of $f(x)$ and $g(x)$.\n",
    "1. $f(x) = \\sqrt{2x + 3}$ and $g(x) = x^2 + 1$"
   ]
  },
  {
   "cell_type": "code",
   "execution_count": null,
   "metadata": {},
   "outputs": [],
   "source": []
  },
  {
   "cell_type": "code",
   "execution_count": null,
   "metadata": {},
   "outputs": [],
   "source": []
  },
  {
   "cell_type": "code",
   "execution_count": null,
   "metadata": {},
   "outputs": [],
   "source": []
  },
  {
   "cell_type": "code",
   "execution_count": null,
   "metadata": {},
   "outputs": [],
   "source": []
  },
  {
   "cell_type": "code",
   "execution_count": null,
   "metadata": {},
   "outputs": [],
   "source": []
  },
  {
   "cell_type": "markdown",
   "metadata": {},
   "source": [
    "2. $f(x) = \\dfrac{x+1}{x-1}$ and $g(x) = \\dfrac{x}{1-x}$"
   ]
  },
  {
   "cell_type": "code",
   "execution_count": null,
   "metadata": {},
   "outputs": [],
   "source": []
  },
  {
   "cell_type": "code",
   "execution_count": null,
   "metadata": {},
   "outputs": [],
   "source": []
  },
  {
   "cell_type": "code",
   "execution_count": null,
   "metadata": {},
   "outputs": [],
   "source": []
  },
  {
   "cell_type": "code",
   "execution_count": null,
   "metadata": {},
   "outputs": [],
   "source": []
  },
  {
   "cell_type": "code",
   "execution_count": null,
   "metadata": {},
   "outputs": [],
   "source": []
  },
  {
   "cell_type": "markdown",
   "metadata": {},
   "source": [
    "## Example 7\n",
    "\n",
    "Let $F(x) = (\\sin(x^2)+1)^3$. Note that we can decompose $F(x)$ into the composition of the three functions $f(x) = x^3$, $g(x) = \\sin(x) + 1$, and $h(x) = x^2$, where $F(x) = f(g(h(x))).$"
   ]
  },
  {
   "cell_type": "code",
   "execution_count": null,
   "metadata": {},
   "outputs": [],
   "source": [
    "def f(x):\n",
    "    return x^3\n",
    "def g(x):\n",
    "    return sin(x) + 1\n",
    "def h(x):\n",
    "    return x^2\n",
    "f(g(h(x)))"
   ]
  },
  {
   "cell_type": "markdown",
   "metadata": {},
   "source": [
    "## Example 8\n",
    "\n",
    "Repeat Example 7 with the following with the following choices for $F(x)$, that is, find $f(x)$, $g(x)$, and $h(x)$ such that $F(x) = f(g(h(x))).$ Be sure to check your composition.\n",
    "1. $F(x) = 2 + \\sqrt{1 - x^{1/3}}$"
   ]
  },
  {
   "cell_type": "code",
   "execution_count": null,
   "metadata": {},
   "outputs": [],
   "source": []
  },
  {
   "cell_type": "markdown",
   "metadata": {},
   "source": [
    "2. $F(x) = \\sin(\\sqrt{x + 5})^2 + 1$"
   ]
  },
  {
   "cell_type": "code",
   "execution_count": null,
   "metadata": {},
   "outputs": [],
   "source": []
  }
 ],
 "metadata": {
  "kernelspec": {
   "display_name": "SageMath 8.9",
   "language": "sage",
   "name": "sagemath"
  },
  "language_info": {
   "codemirror_mode": {
    "name": "ipython",
    "version": 2
   },
   "file_extension": ".py",
   "mimetype": "text/x-python",
   "name": "python",
   "nbconvert_exporter": "python",
   "pygments_lexer": "ipython2",
   "version": "2.7.15"
  }
 },
 "nbformat": 4,
 "nbformat_minor": 2
}
