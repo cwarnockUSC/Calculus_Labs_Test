{
 "cells": [
  {
   "cell_type": "markdown",
   "metadata": {},
   "source": [
    "<center> <h1> Differentiation and Tangent Lines </h1> </center>\n",
    " \n",
    "## Overview\n",
    "\n",
    "In this lab, we will learn how to use Sage to find derivatives and the equation of the tangent line to a curve at a given point.\n",
    "\n",
    "### Important Sage Commands Introduced in this Lab\n",
    "\n",
    "\\begin{array}{|l|l|l|}\n",
    "\\hline \n",
    "\\hfill \\textbf{Command} \\hfill & \\hfill \\textbf{Description} \\hfill & \\hfill \\textbf{Example} \\hfill \\\\\n",
    "\\hline\n",
    "\\textbf{diff}(f(x), x) & \\text{Finds the derivative of $f(x)$} & \\textbf{diff}(x^2, x) \\\\\n",
    "\\hline\n",
    "\\textbf{diff}(f(x), x, n) & \\text{Find the $n^\\text{th}$ derivative of $f(x)$} & \\text{diff}(\\sin(x), x, 100) \\\\\n",
    "\\hline\n",
    "\\end{array}\n",
    "\n",
    "### Related Course Material\n",
    "    Sections 3.1 and 3.2. \n",
    "Recall the point-slope form of the equation of the line: $$y - y_1 = m(x-x_1),$$ where $(x_1, y_1)$ is a point on the line and $m$ is the slope of the line. Next, since $(x_1, f(x_1))$ is on the tangent line, we can substitute $y_1 = f(x_1)$ and move it to the other side. Therefore, we get: $$y = m(x-x_1) + f(x_1).$$ Finally, we know that the derivative evaluated at $x_1$ is the same as the slpoe of the tangent line to the graph of $y = f(x)$ at $x_1$. Thus, we get the following formula for the equation of the tangent line to the graph of $y = f(x)$ at $x_1$: $$y = f'(x_1)(x-x_1) + f(x_1).$$"
   ]
  },
  {
   "cell_type": "markdown",
   "metadata": {},
   "source": [
    "## Example 1\n",
    "\n",
    "In the previous lab, we learned how to use limits and the difference quotient to calculate the derivative of $f(x)$. In Sage, a more direct way is to use the $\\textbf{diff}(f(x),x)$ command to calculate $f'(x)$. This command can also be used to find higher order derivatives. The command $\\textbf{diff}(f(x), x, n)$ will calculate $f^{(n)}(x),$ the $n^\\text{th}$ derivative of $f(x)$. \n",
    "\n",
    "Let $f(x) = x^{10}$. Use Sage to find the following:\n",
    "1. $f'(x)$\n",
    "2. $f''(x)$\n",
    "3. $f'''(x)$\n",
    "4. $f^{(10)}(x)$"
   ]
  },
  {
   "cell_type": "code",
   "execution_count": null,
   "metadata": {},
   "outputs": [],
   "source": []
  },
  {
   "cell_type": "code",
   "execution_count": null,
   "metadata": {},
   "outputs": [],
   "source": []
  },
  {
   "cell_type": "code",
   "execution_count": null,
   "metadata": {},
   "outputs": [],
   "source": []
  },
  {
   "cell_type": "code",
   "execution_count": null,
   "metadata": {},
   "outputs": [],
   "source": []
  },
  {
   "cell_type": "markdown",
   "metadata": {},
   "source": [
    "Suppose we want to calculate $f'(3)$. One thought might be to try $\\textbf{diff}(f(3),x)$. "
   ]
  },
  {
   "cell_type": "code",
   "execution_count": null,
   "metadata": {},
   "outputs": [],
   "source": [
    "diff(f(3),x)"
   ]
  },
  {
   "cell_type": "markdown",
   "metadata": {},
   "source": [
    "Note that this output is wrong. If we use this command, Sage first calculates $f(3)$, and then takes the derivative of this constant which resulted in 0. Instead, we could do one of the following:\n",
    "1. We can let $df(x) = f'(x)$ and then evaluate $df(3)$.\n",
    "2. We can have Sage calculate $f'(x)$, and then use our command $(\\textit{expression})\\textbf{(x=3)}$ to evaluate the function $f'(x)$ at $x=3.$"
   ]
  },
  {
   "cell_type": "code",
   "execution_count": null,
   "metadata": {},
   "outputs": [],
   "source": [
    "df(x) = diff(f(x),x)\n",
    "df(3)"
   ]
  },
  {
   "cell_type": "code",
   "execution_count": null,
   "metadata": {},
   "outputs": [],
   "source": [
    "(diff(f(x),x))(x=3)"
   ]
  },
  {
   "cell_type": "markdown",
   "metadata": {},
   "source": [
    "## Example 2\n",
    "\n",
    "Find $f'(x)$, $f''(10)$, and $f^{(10)}(\\pi)$ for the following functions:\n",
    "1. $f(x) = x^3 + 2x - 5$"
   ]
  },
  {
   "cell_type": "code",
   "execution_count": null,
   "metadata": {},
   "outputs": [],
   "source": []
  },
  {
   "cell_type": "code",
   "execution_count": null,
   "metadata": {},
   "outputs": [],
   "source": []
  },
  {
   "cell_type": "code",
   "execution_count": null,
   "metadata": {},
   "outputs": [],
   "source": []
  },
  {
   "cell_type": "markdown",
   "metadata": {},
   "source": [
    "2. $f(x) = x\\cos(x)^2$"
   ]
  },
  {
   "cell_type": "code",
   "execution_count": null,
   "metadata": {},
   "outputs": [],
   "source": []
  },
  {
   "cell_type": "code",
   "execution_count": null,
   "metadata": {},
   "outputs": [],
   "source": []
  },
  {
   "cell_type": "code",
   "execution_count": null,
   "metadata": {},
   "outputs": [],
   "source": []
  },
  {
   "cell_type": "markdown",
   "metadata": {},
   "source": [
    "3. $f(x) = \\sin(\\cos(\\tan(x)))$"
   ]
  },
  {
   "cell_type": "code",
   "execution_count": null,
   "metadata": {},
   "outputs": [],
   "source": []
  },
  {
   "cell_type": "code",
   "execution_count": null,
   "metadata": {},
   "outputs": [],
   "source": []
  },
  {
   "cell_type": "code",
   "execution_count": null,
   "metadata": {},
   "outputs": [],
   "source": []
  },
  {
   "cell_type": "markdown",
   "metadata": {},
   "source": [
    "## Example 3\n",
    "\n",
    "Consider the function $f(x) = x^2$. We will use Sage to find the equation of the tangent line of $f(x)$ at $x = 1$ and to plot both the function and the tangent line. In order to find the equation of the tangent line, we need to find both $f(1)$ and $f'(1)$."
   ]
  },
  {
   "cell_type": "code",
   "execution_count": null,
   "metadata": {},
   "outputs": [],
   "source": [
    "def f(x):\n",
    "    return x^2\n",
    "f(1)"
   ]
  },
  {
   "cell_type": "code",
   "execution_count": null,
   "metadata": {},
   "outputs": [],
   "source": [
    "df(x) = diff(f(x),x)\n",
    "df(1)"
   ]
  },
  {
   "cell_type": "markdown",
   "metadata": {},
   "source": [
    "Recall from the notes at the beginning of this lab that the equation of the tangent line of $f(x)$ at $x = 1$ is $y = f'(1)(x-1) + f(1).$ We will use Sage to find this line."
   ]
  },
  {
   "cell_type": "code",
   "execution_count": null,
   "metadata": {},
   "outputs": [],
   "source": [
    "y = df(1)*(x-1) + f(1)\n",
    "y"
   ]
  },
  {
   "cell_type": "markdown",
   "metadata": {},
   "source": [
    "Therefore, $y = 2x - 1$ is the equation of the tangent line of $f(x)$ at $x = 1$. We now plot both $f(x)$ and the tangent line on the same graph. Choose a domain which has  the $x$-value $x = 1$ in the center."
   ]
  },
  {
   "cell_type": "code",
   "execution_count": null,
   "metadata": {},
   "outputs": [],
   "source": [
    "plot([f(x),y], xmin = 0, xmax = 2, color=['blue', 'red'], linestyle=['-', '--'])"
   ]
  },
  {
   "cell_type": "markdown",
   "metadata": {},
   "source": [
    "## Example 4\n",
    "\n",
    "Repeat Example 3 with the following functions:\n",
    "1. $f(x) = x^3 + 2x^2 + 1$ at $x = -1$"
   ]
  },
  {
   "cell_type": "code",
   "execution_count": null,
   "metadata": {},
   "outputs": [],
   "source": []
  },
  {
   "cell_type": "code",
   "execution_count": null,
   "metadata": {},
   "outputs": [],
   "source": []
  },
  {
   "cell_type": "markdown",
   "metadata": {},
   "source": [
    "2. $f(x) = 2^x$ at $x = 2$"
   ]
  },
  {
   "cell_type": "code",
   "execution_count": null,
   "metadata": {},
   "outputs": [],
   "source": []
  },
  {
   "cell_type": "code",
   "execution_count": null,
   "metadata": {},
   "outputs": [],
   "source": []
  },
  {
   "cell_type": "markdown",
   "metadata": {},
   "source": [
    "3. $f(x) = \\cos(x)$ at $x = \\frac{\\pi}{4}$"
   ]
  },
  {
   "cell_type": "code",
   "execution_count": null,
   "metadata": {},
   "outputs": [],
   "source": []
  },
  {
   "cell_type": "code",
   "execution_count": null,
   "metadata": {},
   "outputs": [],
   "source": []
  }
 ],
 "metadata": {
  "kernelspec": {
   "display_name": "SageMath 8.9",
   "language": "sage",
   "name": "sagemath"
  },
  "language_info": {
   "codemirror_mode": {
    "name": "ipython",
    "version": 2
   },
   "file_extension": ".py",
   "mimetype": "text/x-python",
   "name": "python",
   "nbconvert_exporter": "python",
   "pygments_lexer": "ipython2",
   "version": "2.7.15"
  }
 },
 "nbformat": 4,
 "nbformat_minor": 2
}
