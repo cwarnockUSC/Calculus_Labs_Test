{
 "cells": [
  {
   "cell_type": "markdown",
   "metadata": {},
   "source": [
    "<center> <h1> Definite Integrals, Riemann Sums, and FTC </h1> </center>\n",
    " \n",
    "## Overview\n",
    "\n",
    "In this lab, we will explore the connection between the definite integral as defined and computed via Riemann sums with the indefinite integral via the Fundamental Theorem of Calculus (FTC).\n",
    "\n",
    "### Important Sage Commands Introduced in this Lab\n",
    "\n",
    "\\begin{array}{|l|l|l|}\n",
    "\\hline \n",
    "\\hfill \\textbf{Command} \\hfill & \\hfill \\textbf{Description} \\hfill & \\hfill \\textbf{Example} \\hfill \\\\\n",
    "\\hline\n",
    "\\textbf{integrate}(\\textit{function}, \\textit{variable}) & \\text{Finds an antiderivative of the function} & \\textbf{integrate}(x^3, x) \\\\\n",
    "\\hline\n",
    "\\textbf{integrate}(\\textit{function}, \\textit{variable}, a, b) & \\text{Calculates $\\displaystyle \\int_a^b f(x) \\ dx$} & \\textbf{integrate}(x^3, x, 0, 5) \\\\\n",
    "\\hline\n",
    "\\end{array}\n",
    "\n",
    "### Related Course Material\n",
    "    5.1, 5.2, 5.3, and 5.4\n",
    "The definite integral of $f(x)$ is defined as the limit of Riemann sums $$\\displaystyle \\int_a^b f(x) \\ dx = \\lim_{n\\rightarrow \\infty} \\sum_{k=1}^n f(x_k^*) \\Delta x.$$ To use the above definition to compute or estimate $\\int_a^b f(x) \\ dx,$ we first choose $n$ (the number of subintervals) and set $\\Delta x = (b-a)/n$ (the length of each subinterval). Next, we need to choose $x_k^*$ in each subinterval. Some popular choices are the left endpoint, the right endpoint, or the midpoint of each subinterval. We then increase $n$ to get better and better approximations. Of course, this leads to messy computations as there are $n$ terms in the sum and a closed form is in general very hard to find. \n",
    "\n",
    "A completely different way to compute definite integrals is to use the FTC, $$\\displaystyle \\int_a^b f(x) \\ dx = F(b) - F(a), \\ \\ \\ \\ \\text{ where $F(x)$ is an antiderivative of $f(x)$.}$$ The FTC relates definite integrals (which are numbers as signed areas) to indefinite integrals (which are functions as antiderivatives). This is great if you know how to find $F(x)$. The problem is that sometimes it can be very difficult (or even impossible) to find a closed form  of $F(x) = \\int f(x) \\ dx.$ Sage is very capable of finding indefinite integrals but don't be surprised if it fails."
   ]
  },
  {
   "cell_type": "markdown",
   "metadata": {},
   "source": [
    "## Example 1\n",
    "Let us first experiment with Sage by having it calculate the Riemann sums of various functions. The code below will calculate the Riemann sum of $f(x)$ from $a$ to $b$ using $n$ subintervals and using either left endpoints, midpoints, or right endpoints. It will also graph $f(x)$ on $[a,b]$ and graph the rectangles used to calculate the Riemann sum.\n",
    "\n",
    "Use the Reimann Sums Calculator below to approximate the definite integral $$\\displaystyle \\int_2^{10} \\dfrac{1}{x} \\ dx$$ by calculating Riemann sums. Use various values for $n$ to see how larger values of $n$ lead to closer approximations for the definite integral.\n",
    "\n",
    "## Riemann Sums Calculator"
   ]
  },
  {
   "cell_type": "code",
   "execution_count": null,
   "metadata": {},
   "outputs": [],
   "source": [
    "# Based on the work of Marshall Hampton found here: https://wiki.sagemath.org/interact/calculus \n",
    "\n",
    "import ipywidgets as widgets\n",
    "from IPython.core.display import display, HTML\n",
    "\n",
    "from sage.repl.ipython_kernel.all_jupyter import slider\n",
    "from sage.repl.ipython_kernel.all_jupyter import input_box\n",
    "from sage.repl.ipython_kernel.all_jupyter import selector\n",
    "\n",
    "var('x')\n",
    "def midpoint(n = slider(1, 100, 1, 4), f = input_box(default = \"x^2\", type = str), start = input_box(default = \"0\", type = str),\n",
    "             end = input_box(default = \"1\", type = str), endpoint_rule = selector(['Left', 'Midpoint', 'Right'], nrows=1, label=\"Endpoint rule\")):\n",
    "    a = N(start)\n",
    "    b = N(end)\n",
    "    func = sage_eval(f + \"+ 0*x\", locals={'x':x})\n",
    "    dx = (b-a)/n\n",
    "    if endpoint_rule == \"Left\":\n",
    "        xs = [q*dx + a for q in range(n)]\n",
    "        ys = [func(x=x_val) for x_val in xs]\n",
    "    elif endpoint_rule == \"Midpoint\":\n",
    "        xs = [q*dx+dx/2 + a for q in range(n)]\n",
    "        ys = [func(x=x_val) for x_val in xs]\n",
    "    elif endpoint_rule == \"Right\":\n",
    "        xs = [q*dx + dx + a for q in range(n)]\n",
    "        ys = [func(x=x_val) for x_val in xs]\n",
    "    rects = Graphics()\n",
    "    for q in range(n):\n",
    "        xm = xs[q]\n",
    "        ym = ys[q]\n",
    "        if endpoint_rule == \"Left\":\n",
    "            rects = rects + line([[xm,0],[xm,ym],[xm+dx,ym],[xm+dx,0]], rgbcolor = (1,0,0)) + point((xm,ym), rgbcolor = (1,0,0))\n",
    "        elif endpoint_rule == \"Midpoint\":\n",
    "            rects = rects + line([[xm-dx/2,0],[xm-dx/2,ym],[xm+dx/2,ym],[xm+dx/2,0]], rgbcolor = (1,0,0)) + point((xm,ym), rgbcolor = (1,0,0))\n",
    "        elif endpoint_rule == \"Right\":\n",
    "            rects = rects + line([[xm-dx,0],[xm-dx,ym],[xm,ym],[xm,0]], rgbcolor = (1,0,0)) + point((xm,ym), rgbcolor = (1,0,0))\n",
    "    min_y = min(0, find_local_minimum(func,a,b)[0])\n",
    "    max_y = max(0, find_local_maximum(func,a,b)[0])\n",
    "    \n",
    "    pretty_print(html('<h3>Numerical integrals with the midpoint rule</h3>'))\n",
    "    pretty_print(html(r'$\\int_{a}^{b}{f(x) \\ dx} {\\, \\approx} \\sum_i{f(x_i) \\Delta x}$'))\n",
    "    if endpoint_rule == \"Left\":\n",
    "        estimation = RDF(dx*sum([ys[q] for q in range(n)]))\n",
    "        print(\"Left Endpoint estimated answer: \" + str(estimation))\n",
    "    elif endpoint_rule == \"Midpoint\":\n",
    "        estimation = RDF(dx*sum([ys[q] for q in range(n)]))\n",
    "        print(\"Midpoint estimated answer: \" + str(estimation))\n",
    "    elif endpoint_rule == \"Right\":\n",
    "        estimation = RDF(dx*sum([ys[q] for q in range(n)]))\n",
    "        print(\"Right Endpoint estimated answer: \" + str(estimation))\n",
    "    answer = integral_numerical(func,a,b,max_points = 200)[0]\n",
    "    print(\"\\nSage numerical answer: \" + str(answer))\n",
    "    print(\"\\nError in estimation: \" + str(answer - estimation))\n",
    "    show(plot(func,a,b) + rects, xmin = a, xmax = b, ymin = min_y, ymax = max_y)\n",
    "    \n",
    "\n",
    "im = widgets.interact_manual(midpoint)\n",
    "im.widget.children[5].add_class(\"top-spacing-class\")\n",
    "display(HTML(\n",
    "     \"<style>.top-spacing-class {margin-top: 20px;}</style>\"\n",
    "))\n",
    "im.widget.children[5].description = 'Evaluate'\n"
   ]
  },
  {
   "cell_type": "markdown",
   "metadata": {},
   "source": [
    "Now, we will use Sage to evaluate $\\displaystyle \\int_2^{10} \\dfrac{1}{x} \\ dx$ via the FTC in two diferent ways and compare the results to our Riemann sum approximations above. First, let us use Sage to find $F(x)$, an antiderivative of $f(x)$, using the $\\textbf{integral}(\\textit{function}, \\textit{variable})$ command."
   ]
  },
  {
   "cell_type": "code",
   "execution_count": null,
   "metadata": {},
   "outputs": [],
   "source": [
    "def f(x):\n",
    "    return 1/x\n",
    "F(x) = integral(f(x),x)\n",
    "F(x)"
   ]
  },
  {
   "cell_type": "markdown",
   "metadata": {},
   "source": [
    "$\\textbf{Caution}$: We know that $\\displaystyle \\int \\dfrac{1}{x} \\ dx = \\ln|x| + C$. However, Sage says that $\\log(x)$ is an antiderivative of $\\dfrac{1}{x}.$ This is because in higher level mathematics, $\\log(x)$ represents the logarithm with base $e$ instead of the logarithm with base 10. We can check that this is the case in Sage by evaluating $\\log(e)$, which should return 1 if it really is the natural logarithm. Also, even though Sage uses $\\log(x)$ to mean the natural logarithm, it still recognizes $\\ln(x)$ as the natural logarithm. "
   ]
  },
  {
   "cell_type": "code",
   "execution_count": null,
   "metadata": {},
   "outputs": [],
   "source": [
    "print(log(e))\n",
    "print(ln(e))"
   ]
  },
  {
   "cell_type": "markdown",
   "metadata": {},
   "source": [
    "Therefore, we see that Sage is telling us that $\\ln(x)$ is an antiderivative of $\\dfrac{1}{x}.$ Now, we use the FTC to evaluate $\\displaystyle \\int_2^{10} \\dfrac{1}{x} \\ dx$ by calculating $F(10) - F(2)$."
   ]
  },
  {
   "cell_type": "code",
   "execution_count": null,
   "metadata": {},
   "outputs": [],
   "source": [
    "F(10) - F(2)"
   ]
  },
  {
   "cell_type": "markdown",
   "metadata": {},
   "source": [
    "Remember that we can get a decimal approximation of $\\log(10) - \\log(2)$ by either making each term involve floating point numbers, (add a decimal point), or by using the $\\textbf{round}(\\textit{expression},n)$ command."
   ]
  },
  {
   "cell_type": "code",
   "execution_count": null,
   "metadata": {},
   "outputs": [],
   "source": [
    "print(F(10.) - F(2.))\n",
    "print(round(F(10) - F(2), 10))"
   ]
  },
  {
   "cell_type": "markdown",
   "metadata": {},
   "source": [
    "Thus, we have that $\\displaystyle \\int_2^{10} \\dfrac{1}{x} \\ dx = \\ln(10) - \\ln(2) \\approx 1.609.$\n",
    "\n",
    "Another way in which Sage can evaluate the definite integral is to use the same $\\textbf{integral}$ command, but with the added parameters of $a$ and $b$; that is, we will use the command $\\textbf{integral}(\\textit{function}, \\textit{variable}, a, b)$."
   ]
  },
  {
   "cell_type": "code",
   "execution_count": null,
   "metadata": {},
   "outputs": [],
   "source": [
    "integral(f(x), x, 2, 10)"
   ]
  },
  {
   "cell_type": "markdown",
   "metadata": {},
   "source": [
    "Again, we see that $\\displaystyle \\int_2^{10} \\dfrac{1}{x} \\ dx = \\ln(10) - \\ln(2).$"
   ]
  },
  {
   "cell_type": "markdown",
   "metadata": {},
   "source": [
    "Note: We could make Sage return the answer in decimal form by using $2.0$ and $10.0$ instead of $2$ and $10$."
   ]
  },
  {
   "cell_type": "code",
   "execution_count": null,
   "metadata": {},
   "outputs": [],
   "source": [
    "integral(f(x), x, 2.0, 10.0)"
   ]
  },
  {
   "cell_type": "markdown",
   "metadata": {},
   "source": [
    "## Notes / Remarks:\n",
    "As stated in the introduction, it may be impossible to find a closed form of $F(x) = \\int f(x) \\ dx$. Try the example $f(x) = (\\ln(x))e^{-x^2}$."
   ]
  },
  {
   "cell_type": "code",
   "execution_count": null,
   "metadata": {},
   "outputs": [],
   "source": [
    "integrate(ln(x)*e^(-x^2),x)"
   ]
  },
  {
   "cell_type": "code",
   "execution_count": null,
   "metadata": {},
   "outputs": [],
   "source": [
    "integrate(ln(x)*e^(-x^2),x, 2, 10)"
   ]
  },
  {
   "cell_type": "markdown",
   "metadata": {},
   "source": [
    "Both outputs contain the functions $\\textbf{erf}(x)$ and $\\textbf{hypergeometric}(\\dots)$ which are not functions with closed form but instead an error function and an infinite series. The good news, however, is that if we use $2.0$ and $10.0$ as our bounds instead of $2$ and $10$, then Sage will use Riemann sums to give an approximation of what the actual answer is."
   ]
  },
  {
   "cell_type": "code",
   "execution_count": null,
   "metadata": {},
   "outputs": [],
   "source": [
    "integrate(ln(x)*e^(-x^2), x, 2.0, 10.0)"
   ]
  },
  {
   "cell_type": "markdown",
   "metadata": {},
   "source": [
    "Therefore, even if it is impossible to find a closed form for an antiderivative of a function, Sage can still give us a close approximation with very little trouble."
   ]
  },
  {
   "cell_type": "markdown",
   "metadata": {},
   "source": [
    "## Example 2\n",
    "\n",
    "For the following functions, use the Riemann Sums Calculator to approximate the definite integral using various values of $n$ and various endpoint rules. Then, use Sage to find the exact value for the definite integral and compare with the approximations.\n",
    "\n",
    "1. $\\displaystyle \\int_2^6 x^3 \\ dx$\n",
    "2. $\\displaystyle \\int_0^5 \\sqrt{x} \\ dx$\n",
    "3. $\\displaystyle \\int_0^4 \\dfrac{x}{x+1} \\ dx$\n",
    "4. $\\displaystyle \\int_0^4 \\dfrac{x}{x^4 + 1} \\ dx$\n",
    "5. $\\displaystyle \\int_0^1 \\cos(x) \\ dx$\n",
    "6. $\\displaystyle \\int_0^1 \\cos(\\sin(x^2)) \\ dx$\n",
    "7. $\\displaystyle \\int_{-1}^3 e^{-x} \\ dx$\n",
    "8. $\\displaystyle \\int_{-1}^3 xe^{-x} \\ dx$\n"
   ]
  },
  {
   "cell_type": "code",
   "execution_count": null,
   "metadata": {},
   "outputs": [],
   "source": []
  }
 ],
 "metadata": {
  "kernelspec": {
   "display_name": "SageMath 8.9",
   "language": "sage",
   "name": "sagemath"
  },
  "language_info": {
   "codemirror_mode": {
    "name": "ipython",
    "version": 2
   },
   "file_extension": ".py",
   "mimetype": "text/x-python",
   "name": "python",
   "nbconvert_exporter": "python",
   "pygments_lexer": "ipython2",
   "version": "2.7.15"
  }
 },
 "nbformat": 4,
 "nbformat_minor": 2
}
