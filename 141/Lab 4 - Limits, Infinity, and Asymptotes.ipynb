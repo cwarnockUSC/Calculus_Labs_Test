{
 "cells": [
  {
   "cell_type": "markdown",
   "metadata": {},
   "source": [
    "<center> <h1> Limits, Inifinity, and Asymptotes </h1> </center>\n",
    " \n",
    "## Overview\n",
    "\n",
    "The concept of a limit is the central idea in Calculus. Limits involving infininity are important because they are closely related to asymptotes. While asymptotes for functions are sometimes easy to identify from a graph, the actual definition of asymptotes is in terms of limits. There are several types of asymptotes and the two simplest are:\n",
    "\n",
    "\\begin{array}{|l|l|l|}\n",
    "\\hline\n",
    "\\hfill \\textbf{Asymptote} \\hfill & \\hfill \\textbf{Equation} \\hfill & \\hfill \\textbf{Definition} \\hfill \\\\\n",
    "\\hline\n",
    "\\text{Horizontal} & y = L & \\displaystyle\\lim_{x\\rightarrow -\\infty} f(x) = L \\text{ or } \\lim_{x\\rightarrow \\infty} f(x) = L \\\\\n",
    "\\hline\n",
    "\\text{Vertical} & x = a & \\displaystyle \\lim_{x\\rightarrow a^-}f(x) = \\infty \\text{ (or $-\\infty$) or } \\lim_{x\\rightarrow a^+} f(x) = \\infty \\text{ (or $-\\infty$)} \\\\\n",
    "\\hline\n",
    "\\end{array}\n",
    "\n",
    "In this lab, you will learn how to evaluate the limit of a function at a point and also how to use limits to identify asymptotes.\n",
    "\n",
    "### Important Sage Commands Introduced in this Lab\n",
    "\n",
    "\\begin{array}{|l|l|l|}\n",
    "\\hline \n",
    "\\hfill \\textbf{Command} \\hfill & \\hfill \\textbf{Description} \\hfill & \\hfill \\textbf{Example} \\hfill \\\\\n",
    "\\hline\n",
    "\\textbf{limit}(f(x), x=a) & \\text{Evaluates } \\displaystyle \\lim_{x\\rightarrow a} f(x) & \\textbf{limit}(f(x), x=2) \\\\\n",
    "\\hline\n",
    "\\textbf{limit}(f(x), x=a, \\text{dir = '+'}) & \\text{Evaluates } \\displaystyle \\lim_{x\\rightarrow a^+} f(x) & \\textbf{limit}((f(x)+1) / (x-2), x=1, \\text{dir = '+'}) \\\\\n",
    "\\hline\n",
    "\\textbf{limit}(f(x), x=a, \\text{dir = '-'}) & \\text{Evaluates } \\displaystyle \\lim_{x\\rightarrow a^-} f(x) & \\textbf{limit}(\\text{sqrt}(x^2 - 1), x=-1, \\text{dir = '-'}) \\\\\n",
    "\\hline\n",
    "\\textbf{limit}(f(x), x=\\text{infinity}) & \\text{Evaluates } \\displaystyle \\lim_{x\\rightarrow \\infty} f(x) & \\textbf{limit}(3x / (x-2)), x=\\text{infinity}) \\\\\n",
    "\\hline\n",
    "\\textbf{limit}(f(x), x=\\text{-infinity}) & \\text{Evaluates } \\displaystyle \\lim_{x\\rightarrow -\\infty} f(x) & \\textbf{limit}(\\text{e^(3x)}, x=\\text{-infinity}) \\\\\n",
    "\\hline\n",
    "\\textbf{solve}(\\textit{equation}, \\textit{variable}) & \\text{Solves the equation for the given variable} & \\textbf{solve}(\\text{x^2 - 4 == 0, x}) \\\\\n",
    "\\hline\n",
    "\\textbf{denominator}(\\textit{fraction}) & \\text{Outputs the denominator of the fraction} & \\textbf{denominator}(\\text{(x^2 + 1) / (x + 5)}) \\\\\n",
    "\\hline\n",
    "\\end{array}\n",
    "\n",
    "### Related Course Material\n",
    "    Sections 2.1, 2.2, 2.4, and 2.6"
   ]
  },
  {
   "cell_type": "markdown",
   "metadata": {},
   "source": [
    "## Example 1\n",
    "\n",
    "Use Sage to evaluate $\\displaystyle \\lim_{h\\rightarrow 0} \\dfrac{f(x+h) - f(x)}{h}$ for the functions below. Don't forget that you must make $h$ a variable before you can use it as one.\n",
    "1. $f(x) = x^2$\n",
    "2. $f(x) = \\sqrt{x}$\n",
    "3. $f(x) = \\frac{1}{x}$\n",
    "4. $f(x) = \\sin(x)$\n",
    "5. $f(x) = e^x$ (Depending on your version of Sage, you may need to add the line $\\textbf{assume(x, 'noninteger')}$ in order for Sage to compute this limit)"
   ]
  },
  {
   "cell_type": "code",
   "execution_count": null,
   "metadata": {},
   "outputs": [],
   "source": []
  },
  {
   "cell_type": "code",
   "execution_count": null,
   "metadata": {},
   "outputs": [],
   "source": []
  },
  {
   "cell_type": "code",
   "execution_count": null,
   "metadata": {},
   "outputs": [],
   "source": []
  },
  {
   "cell_type": "code",
   "execution_count": null,
   "metadata": {},
   "outputs": [],
   "source": []
  },
  {
   "cell_type": "code",
   "execution_count": null,
   "metadata": {},
   "outputs": [],
   "source": []
  },
  {
   "cell_type": "markdown",
   "metadata": {},
   "source": [
    "## Example 2\n",
    "\n",
    "Let $f(x) = \\frac{|x|}{x}$ and use Sage to calculate the following limits. You need to use abs($x$) command for the absolute value function.\n",
    "1. $\\displaystyle \\lim_{x\\rightarrow 5} f(x)$\n",
    "2. $\\displaystyle \\lim_{x\\rightarrow -\\infty} f(x)$\n",
    "3. $\\displaystyle \\lim_{x\\rightarrow 0} f(x)$\n",
    "4. $\\displaystyle \\lim_{x\\rightarrow 0^+} f(x)$\n",
    "5. $\\displaystyle \\lim_{x\\rightarrow 0^-} f(x)$"
   ]
  },
  {
   "cell_type": "code",
   "execution_count": null,
   "metadata": {},
   "outputs": [],
   "source": []
  },
  {
   "cell_type": "code",
   "execution_count": null,
   "metadata": {},
   "outputs": [],
   "source": []
  },
  {
   "cell_type": "code",
   "execution_count": null,
   "metadata": {},
   "outputs": [],
   "source": []
  },
  {
   "cell_type": "code",
   "execution_count": null,
   "metadata": {},
   "outputs": [],
   "source": []
  },
  {
   "cell_type": "code",
   "execution_count": null,
   "metadata": {},
   "outputs": [],
   "source": []
  },
  {
   "cell_type": "code",
   "execution_count": null,
   "metadata": {},
   "outputs": [],
   "source": []
  },
  {
   "cell_type": "markdown",
   "metadata": {},
   "source": [
    "Based off of your results, what do you think the graph of $f(x)$ looks like? Check your guess below."
   ]
  },
  {
   "cell_type": "code",
   "execution_count": null,
   "metadata": {},
   "outputs": [],
   "source": []
  },
  {
   "cell_type": "markdown",
   "metadata": {},
   "source": [
    "## Example 3\n",
    "\n",
    "Now, we will use Sage to identify the asymptotes of a function. Let $f(x) = \\dfrac{5 + 2x^2}{x^2 - 1}$. Recall that the values which make the denominator of a rational function equal zero are all of the possible places for a vertical asymptote. We can find all $x$-values which make the denominator of $f(x)$ equal zero by hand or we can use use Sage to help us. If we use Sage, we need to use the functions $\\textbf{denominator}(\\textit{expression})$ and $\\textbf{solve}(\\textit{equation}, \\textit{variable})$. When creating an equation in Sage, you must use $\\textbf{==}$ in place of $\\textbf{=}$."
   ]
  },
  {
   "cell_type": "code",
   "execution_count": null,
   "metadata": {},
   "outputs": [],
   "source": [
    "def f(x):\n",
    "    return (5 + 2*x^2)/(x^2-1)\n",
    "solve(denominator(f(x)) == 0,x)"
   ]
  },
  {
   "cell_type": "markdown",
   "metadata": {},
   "source": [
    "Sage tells us that the only $x$-values which make the denomiator equal zero are $x = -1$ and $x = 1$. Therefore, the only possible vertical asymptotes are at $x=-1$ and $x=1$. We can use Sage to calculate the one-sided limits of $f(x)$ at these $x$-values to determine if either of them are actually vertical asymptotes."
   ]
  },
  {
   "cell_type": "code",
   "execution_count": null,
   "metadata": {},
   "outputs": [],
   "source": [
    "limit(f(x), x=-1, dir='+')"
   ]
  },
  {
   "cell_type": "code",
   "execution_count": null,
   "metadata": {},
   "outputs": [],
   "source": [
    "limit(f(x), x=-1, dir='-')"
   ]
  },
  {
   "cell_type": "markdown",
   "metadata": {},
   "source": [
    "Since at least one of the one-sided llimits at $x = -1$ was either $\\infty$ or $-\\infty$, we have that the graph of $f(x)$ has a vertical asymptote at $x = -1$. \n",
    "\n",
    "Check the one sided limits at $x = 1$ to see if there is also a vertical asymptote at $x=1$."
   ]
  },
  {
   "cell_type": "code",
   "execution_count": null,
   "metadata": {},
   "outputs": [],
   "source": []
  },
  {
   "cell_type": "code",
   "execution_count": null,
   "metadata": {},
   "outputs": [],
   "source": []
  },
  {
   "cell_type": "markdown",
   "metadata": {},
   "source": [
    "Therefore, the graph of $f(x)$ has vertical asymptotes at both $x=-1$ and $x=1$.\n",
    "\n",
    "To find the horizontal asymptotes, we calculate the limit of $f(x)$ as $x$ approaches $\\infty$ and $-\\infty$. "
   ]
  },
  {
   "cell_type": "code",
   "execution_count": null,
   "metadata": {},
   "outputs": [],
   "source": [
    "limit(f(x), x=infinity)"
   ]
  },
  {
   "cell_type": "code",
   "execution_count": null,
   "metadata": {},
   "outputs": [],
   "source": [
    "limit(f(x), x=-infinity)"
   ]
  },
  {
   "cell_type": "markdown",
   "metadata": {},
   "source": [
    "Both limits tell us that $y = 2$ is a horizontal asymptote. Therefore, we have that $y = 2$ is our only horizontal asymptote.\n",
    "\n",
    "We can check our conclusiong by plotting the function in an appropriate viewing window which will show all of the asymptotes. The option $\\textbf{detect_poles = 'show'}$ will plot the vertical asymptote(s) on the graph. We can also plot the horizontal asymptote(s) by inclding the $y$-value(s) in our plot."
   ]
  },
  {
   "cell_type": "code",
   "execution_count": null,
   "metadata": {},
   "outputs": [],
   "source": [
    "plot([f(x), 2], xmin=-10, xmax=10, ymin=-10, ymax=10, color = ['blue', 'gray'], linestyle = ['-', '--'], detect_poles = 'show')"
   ]
  },
  {
   "cell_type": "markdown",
   "metadata": {},
   "source": [
    "## Example 4\n",
    "\n",
    "Repeat Example 3 with the following functions:\n",
    "1. $f(x) = \\dfrac{3x + 2}{(x+2)^2}$\n",
    "2. $f(x) = \\dfrac{(x^2 - 1)\\sqrt{4x^2 + 1}}{x^3 - 2x^2 - x + 2}$\n",
    "3. $f(x) = \\dfrac{\\sin(x)}{x}$\n",
    "4. $f(x) = \\dfrac{x^3 + 3x^2 - 12x + 4}{x^2}$\n",
    "5. $f(x) = \\dfrac{x^3 + 3x^2 - 12x + 4}{x^3 - x^2 - 4x + 4}$\n",
    "6. $f(x) = \\dfrac{\\sqrt{x^2 + 1} + 2x}{2x - 3}$\n",
    "7. $f(x) = \\dfrac{\\sqrt{9x^2 + 4} - 2}{x + 1}$"
   ]
  },
  {
   "cell_type": "code",
   "execution_count": 1,
   "metadata": {},
   "outputs": [],
   "source": []
  }
 ],
 "metadata": {
  "kernelspec": {
   "display_name": "SageMath 8.9",
   "language": "sage",
   "name": "sagemath"
  },
  "language_info": {
   "codemirror_mode": {
    "name": "ipython",
    "version": 2
   },
   "file_extension": ".py",
   "mimetype": "text/x-python",
   "name": "python",
   "nbconvert_exporter": "python",
   "pygments_lexer": "ipython2",
   "version": "2.7.15"
  }
 },
 "nbformat": 4,
 "nbformat_minor": 2
}
