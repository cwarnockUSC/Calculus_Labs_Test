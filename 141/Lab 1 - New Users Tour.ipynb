{
 "cells": [
  {
   "cell_type": "markdown",
   "metadata": {},
   "source": [
    "# New User's Tour\n",
    "\n",
    "Note: To take the tour, click in each executable cell, the ones with $\\text{In [ ]:}$ beside them, and press Shift + Enter."
   ]
  },
  {
   "cell_type": "markdown",
   "metadata": {},
   "source": [
    "Sage is a free, open-source math software that supports research and teaching in algebra, geometry, number theory, cryptography, numerical computation, and related areas. Sage is based on the programming language Python. We will use Sage to perform calculations and give insight into the many topics covered in Calculus.\n",
    "\n",
    "## Sage as a Calculator\n",
    "\n",
    "Sage's most basic function is to act as a conventional calculator. For example, we can use Sage to simplify the expression $$\\frac{3(2+\\frac{1}{2})^2}{\\frac{1}{5} - \\frac{2}{3}}$$ We can simply input the expression into an executable cell exactly as we would a calculator. One thing to be careful about in Sage is you must use $\\textbf{*}$ to represent multiplication."
   ]
  },
  {
   "cell_type": "code",
   "execution_count": null,
   "metadata": {
    "scrolled": true
   },
   "outputs": [],
   "source": [
    "(3*(2+1/2)^2)/(1/5 - 2/3)"
   ]
  },
  {
   "cell_type": "markdown",
   "metadata": {},
   "source": [
    "Since the calculation only contained rational numbers, Sage gave the output as a rational number. If we wanted a decimal approximation of the output, we could use the $\\textbf{round(exp, n)}$ command, where $n$ is the number of decimal places we want displayed."
   ]
  },
  {
   "cell_type": "code",
   "execution_count": null,
   "metadata": {},
   "outputs": [],
   "source": [
    "round(-1125/28, 10)"
   ]
  },
  {
   "cell_type": "markdown",
   "metadata": {},
   "source": [
    "Sage has the capability of referring to specific output cells which we can use as a shortcut instead of having to retype certain code. However, be very careful when referring to specific output cells, since the number associated to the output cell will change if it is ever re-excuted."
   ]
  },
  {
   "cell_type": "code",
   "execution_count": null,
   "metadata": {},
   "outputs": [],
   "source": [
    "round(_1, 10)"
   ]
  },
  {
   "cell_type": "markdown",
   "metadata": {},
   "source": [
    "A second way in which we could get a decimal approximation for a rational expression is to make at least one of the numbers a floating-point number. This means, make one of the numbers a decimal."
   ]
  },
  {
   "cell_type": "code",
   "execution_count": null,
   "metadata": {},
   "outputs": [],
   "source": [
    "(3.0*(2+1/2)^2)/(1/5 - 2/3)"
   ]
  },
  {
   "cell_type": "markdown",
   "metadata": {},
   "source": [
    "## Predefined Functions and Constants\n",
    "Sage has many of the common math functions and constants predefined. Most of these can be referenced by their normal notation. Note how Sage has no issue calculating $\\sqrt{100}$, $\\sqrt[3]{54}$, $\\cos(\\pi)$ and $\\arcsin\\left(\\dfrac{1}{2}\\right)$. "
   ]
  },
  {
   "cell_type": "code",
   "execution_count": null,
   "metadata": {},
   "outputs": [],
   "source": [
    "sqrt(100)"
   ]
  },
  {
   "cell_type": "code",
   "execution_count": null,
   "metadata": {},
   "outputs": [],
   "source": [
    "(54)^(1/3)"
   ]
  },
  {
   "cell_type": "code",
   "execution_count": null,
   "metadata": {},
   "outputs": [],
   "source": [
    "cos(pi)"
   ]
  },
  {
   "cell_type": "code",
   "execution_count": null,
   "metadata": {},
   "outputs": [],
   "source": [
    "arcsin(1/2)"
   ]
  },
  {
   "cell_type": "markdown",
   "metadata": {},
   "source": [
    "Note that Sage gave exact answers for $\\sqrt[3]{54}$ and $\\arcsin\\left(\\frac{1}{2}\\right).$ In the two cells below, use Sage to approximate each of these values to 5 decimal places."
   ]
  },
  {
   "cell_type": "code",
   "execution_count": null,
   "metadata": {},
   "outputs": [],
   "source": []
  },
  {
   "cell_type": "code",
   "execution_count": null,
   "metadata": {},
   "outputs": [],
   "source": []
  },
  {
   "cell_type": "markdown",
   "metadata": {},
   "source": [
    "## Assigning Expressions to Names \n",
    "\n",
    "Sage allows us to assign an expression to a name so that it can easily be referenced throughout the entire worksheet. For example, we can assign $\\dfrac{\\pi}{2}$ to the name $a$ by doing the following."
   ]
  },
  {
   "cell_type": "code",
   "execution_count": null,
   "metadata": {},
   "outputs": [],
   "source": [
    "a = pi/2"
   ]
  },
  {
   "cell_type": "markdown",
   "metadata": {},
   "source": [
    "Note that Sage supresses the output whenever you are making an assignment. We can check that $a$ really has been assigned to $\\dfrac{\\pi}{2}$ by entering into an input cell by itself."
   ]
  },
  {
   "cell_type": "code",
   "execution_count": null,
   "metadata": {},
   "outputs": [],
   "source": [
    "a"
   ]
  },
  {
   "cell_type": "markdown",
   "metadata": {},
   "source": [
    "Now, whenever we use $a$ throughout the entire worksheet, it will be referring to $\\dfrac{\\pi}{2}$. If we wanted to reassign $a$ to something else, all we have to do is set it equal to the new value."
   ]
  },
  {
   "cell_type": "code",
   "execution_count": null,
   "metadata": {},
   "outputs": [],
   "source": [
    "a = pi/3\n",
    "a"
   ]
  },
  {
   "cell_type": "markdown",
   "metadata": {},
   "source": [
    "Note that this time, Sage did display the new value of $a$. This is because we both assigned $a$ to its new value and told Sage to return $a$ in the same input cell. Sage allows us to have multiple lines of code in the same cell and will execute all lines, however, it will only display the last line of code."
   ]
  },
  {
   "cell_type": "code",
   "execution_count": null,
   "metadata": {},
   "outputs": [],
   "source": [
    "a\n",
    "a + 1\n",
    "a + 2"
   ]
  },
  {
   "cell_type": "markdown",
   "metadata": {},
   "source": [
    "If you wish to display mutliple lines, you can use the $\\textbf{print}(\\dots)$ command."
   ]
  },
  {
   "cell_type": "code",
   "execution_count": null,
   "metadata": {},
   "outputs": [],
   "source": [
    "print(a)\n",
    "print(a + 1)\n",
    "print(a + 2)"
   ]
  },
  {
   "cell_type": "markdown",
   "metadata": {},
   "source": [
    "$\\textbf{Caution:}$ Be very careful about the names you choose for your assignment variables. Sage will allow you to use a name that it has already defined and it does $\\textbf{not}$ warn you that you are overwriting a predefined command. For example, if you do the assignment sin = 5, then the next time you use sin, it will think you mean 5 instead of the trig function. In order to recover the trig function sin, you need to reset Sage by using the command $\\textbf{reset}().$ This will clear all variables and functions you previously assigned, so you will need to re-execute those codes to reassign the variables and functions."
   ]
  },
  {
   "cell_type": "markdown",
   "metadata": {},
   "source": [
    "## Creating Functions\n",
    "\n",
    "We can also create functions in Sage. For example, in order to create the function $f(x) = x^2$, we do the following."
   ]
  },
  {
   "cell_type": "code",
   "execution_count": null,
   "metadata": {},
   "outputs": [],
   "source": [
    "def f(x):\n",
    "    return x^2\n",
    "f(x)"
   ]
  },
  {
   "cell_type": "markdown",
   "metadata": {},
   "source": [
    "Now that we have $f(x)$ defined, we can evaluate the function at different inputs."
   ]
  },
  {
   "cell_type": "code",
   "execution_count": null,
   "metadata": {},
   "outputs": [],
   "source": [
    "f(4)"
   ]
  },
  {
   "cell_type": "code",
   "execution_count": null,
   "metadata": {},
   "outputs": [],
   "source": [
    "f(x) + 4"
   ]
  },
  {
   "cell_type": "code",
   "execution_count": null,
   "metadata": {},
   "outputs": [],
   "source": [
    "f(f(x))"
   ]
  },
  {
   "cell_type": "markdown",
   "metadata": {},
   "source": [
    "What if we wanted to use the variable $t$ in place of $x$?"
   ]
  },
  {
   "cell_type": "code",
   "execution_count": null,
   "metadata": {},
   "outputs": [],
   "source": [
    "f(t)"
   ]
  },
  {
   "cell_type": "markdown",
   "metadata": {},
   "source": [
    "Sage gives an error saying that $t$ is not defined. The only variable that Sage has predefined is $x$. If we want to use other variables, such as $t$, then we will need to make $t$ a variable by using the $\\textbf{var}$ command."
   ]
  },
  {
   "cell_type": "code",
   "execution_count": null,
   "metadata": {},
   "outputs": [],
   "source": [
    "var('t')"
   ]
  },
  {
   "cell_type": "markdown",
   "metadata": {},
   "source": [
    "Now, Sage will have no problem evaluating $f(t)$. "
   ]
  },
  {
   "cell_type": "code",
   "execution_count": null,
   "metadata": {},
   "outputs": [],
   "source": [
    "f(t)"
   ]
  },
  {
   "cell_type": "markdown",
   "metadata": {},
   "source": [
    "Rather than just doing normal calculations, we can also have Sage perform calculus."
   ]
  },
  {
   "cell_type": "code",
   "execution_count": null,
   "metadata": {},
   "outputs": [],
   "source": [
    "var('h')\n",
    "limit((f(x+h) - f(x))/h,h=0)"
   ]
  },
  {
   "cell_type": "code",
   "execution_count": null,
   "metadata": {},
   "outputs": [],
   "source": [
    "diff(f(x))"
   ]
  },
  {
   "cell_type": "code",
   "execution_count": null,
   "metadata": {
    "scrolled": true
   },
   "outputs": [],
   "source": [
    "diff(f(x),2)"
   ]
  },
  {
   "cell_type": "code",
   "execution_count": null,
   "metadata": {},
   "outputs": [],
   "source": [
    "integrate(f(x),x)"
   ]
  },
  {
   "cell_type": "markdown",
   "metadata": {},
   "source": [
    "## Plotting\n",
    "\n",
    "The last part of Sage which we will explore in this tour is its ability to plot graphs of functions. First, use the cell below to create the function $g(x) = \\dfrac{sin(x)}{(x)}.$"
   ]
  },
  {
   "cell_type": "code",
   "execution_count": null,
   "metadata": {},
   "outputs": [],
   "source": []
  },
  {
   "cell_type": "markdown",
   "metadata": {},
   "source": [
    "Now, plot $g(x)$ by using the function $\\textbf{plot(g(x))}$."
   ]
  },
  {
   "cell_type": "code",
   "execution_count": null,
   "metadata": {},
   "outputs": [],
   "source": [
    "plot(g(x))"
   ]
  },
  {
   "cell_type": "markdown",
   "metadata": {},
   "source": [
    "The function $\\textbf{plot()}$ can take inputs other than just $g(x)$. These other inputs allow you to change specific characteristics about the graph of the funciton such as the $x$-range and $y$-range, the color, the linestyle, etc. To see a detailed description about the plot function, or about any function, simply follow its name with ? and execute the cell."
   ]
  },
  {
   "cell_type": "code",
   "execution_count": null,
   "metadata": {},
   "outputs": [],
   "source": [
    "plot?"
   ]
  },
  {
   "cell_type": "markdown",
   "metadata": {},
   "source": [
    "We can run the following code to display the graph of $g(x)$ in a window that goes from $[-5,5]$ on the $x$-axis and $[-1,1]$ on the $y$-axis, changes the graph color to red, and changes the linestyle to dashed."
   ]
  },
  {
   "cell_type": "code",
   "execution_count": null,
   "metadata": {},
   "outputs": [],
   "source": [
    "plot(g(x),xmin = -5, xmax = 5, ymin = -1, ymax = 1, color = 'red', linestyle = 'dashed')"
   ]
  },
  {
   "cell_type": "markdown",
   "metadata": {},
   "source": [
    "Sage also has the ability to graph multiply funtions at once. When plotting multiple functions at the same time, sorround them in brackets. Also, you can change properties for each function by also sorrounding the properties in brackets. The following command plots both $g(x)$ and its derivative $g'(x)$ from $[-5,5]$ on the $x$-axis and $[-1,1]$ on the $y$-axis. It also plots $g(x)$ in green with dashes and $g'(x)$ in orange with dots. Additonally, we add a legend to distinguish between the two functions in the graph. "
   ]
  },
  {
   "cell_type": "code",
   "execution_count": null,
   "metadata": {},
   "outputs": [],
   "source": [
    "plot([g(x), diff(g(x))], xmin = -5, xmax = 5, ymin = -1, ymax = 1, \n",
    "     color = ['green', 'orange'], linestyle = ['dashed', 'dotted'],\n",
    "     legend_label = ['g(x)', \"g'(x)\"])"
   ]
  }
 ],
 "metadata": {
  "kernelspec": {
   "display_name": "SageMath 8.9",
   "language": "sage",
   "name": "sagemath"
  },
  "language_info": {
   "codemirror_mode": {
    "name": "ipython",
    "version": 2
   },
   "file_extension": ".py",
   "mimetype": "text/x-python",
   "name": "python",
   "nbconvert_exporter": "python",
   "pygments_lexer": "ipython2",
   "version": "2.7.15"
  }
 },
 "nbformat": 4,
 "nbformat_minor": 2
}
